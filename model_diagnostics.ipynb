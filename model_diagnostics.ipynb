{
 "cells": [
  {
   "cell_type": "markdown",
   "id": "3fa7ab9b",
   "metadata": {},
   "source": [
    "## Model Diagnostics"
   ]
  },
  {
   "cell_type": "code",
   "execution_count": 1,
   "id": "b2b8fde3",
   "metadata": {},
   "outputs": [],
   "source": [
    "import pandas as pd\n",
    "\n",
    "housing = pd.read_csv('data/housing_renamed.csv')"
   ]
  },
  {
   "cell_type": "code",
   "execution_count": 2,
   "id": "7cd1be00",
   "metadata": {},
   "outputs": [
    {
     "data": {
      "text/html": [
       "<div>\n",
       "<style scoped>\n",
       "    .dataframe tbody tr th:only-of-type {\n",
       "        vertical-align: middle;\n",
       "    }\n",
       "\n",
       "    .dataframe tbody tr th {\n",
       "        vertical-align: top;\n",
       "    }\n",
       "\n",
       "    .dataframe thead th {\n",
       "        text-align: right;\n",
       "    }\n",
       "</style>\n",
       "<table border=\"1\" class=\"dataframe\">\n",
       "  <thead>\n",
       "    <tr style=\"text-align: right;\">\n",
       "      <th></th>\n",
       "      <th>neighborhood</th>\n",
       "      <th>type</th>\n",
       "      <th>units</th>\n",
       "      <th>year_built</th>\n",
       "      <th>sq_ft</th>\n",
       "      <th>income</th>\n",
       "      <th>income_per_sq_ft</th>\n",
       "      <th>expense</th>\n",
       "      <th>expense_per_sq_ft</th>\n",
       "      <th>net_income</th>\n",
       "      <th>value</th>\n",
       "      <th>value_per_sq_ft</th>\n",
       "      <th>boro</th>\n",
       "    </tr>\n",
       "  </thead>\n",
       "  <tbody>\n",
       "    <tr>\n",
       "      <th>0</th>\n",
       "      <td>FINANCIAL</td>\n",
       "      <td>R9-CONDOMINIUM</td>\n",
       "      <td>42</td>\n",
       "      <td>1920.0</td>\n",
       "      <td>36500</td>\n",
       "      <td>1332615</td>\n",
       "      <td>36.51</td>\n",
       "      <td>342005</td>\n",
       "      <td>9.37</td>\n",
       "      <td>990610</td>\n",
       "      <td>7300000</td>\n",
       "      <td>200.00</td>\n",
       "      <td>Manhattan</td>\n",
       "    </tr>\n",
       "    <tr>\n",
       "      <th>1</th>\n",
       "      <td>FINANCIAL</td>\n",
       "      <td>R4-CONDOMINIUM</td>\n",
       "      <td>78</td>\n",
       "      <td>1985.0</td>\n",
       "      <td>126420</td>\n",
       "      <td>6633257</td>\n",
       "      <td>52.47</td>\n",
       "      <td>1762295</td>\n",
       "      <td>13.94</td>\n",
       "      <td>4870962</td>\n",
       "      <td>30690000</td>\n",
       "      <td>242.76</td>\n",
       "      <td>Manhattan</td>\n",
       "    </tr>\n",
       "    <tr>\n",
       "      <th>2</th>\n",
       "      <td>FINANCIAL</td>\n",
       "      <td>RR-CONDOMINIUM</td>\n",
       "      <td>500</td>\n",
       "      <td>NaN</td>\n",
       "      <td>554174</td>\n",
       "      <td>17310000</td>\n",
       "      <td>31.24</td>\n",
       "      <td>3543000</td>\n",
       "      <td>6.39</td>\n",
       "      <td>13767000</td>\n",
       "      <td>90970000</td>\n",
       "      <td>164.15</td>\n",
       "      <td>Manhattan</td>\n",
       "    </tr>\n",
       "    <tr>\n",
       "      <th>3</th>\n",
       "      <td>FINANCIAL</td>\n",
       "      <td>R4-CONDOMINIUM</td>\n",
       "      <td>282</td>\n",
       "      <td>1930.0</td>\n",
       "      <td>249076</td>\n",
       "      <td>11776313</td>\n",
       "      <td>47.28</td>\n",
       "      <td>2784670</td>\n",
       "      <td>11.18</td>\n",
       "      <td>8991643</td>\n",
       "      <td>67556006</td>\n",
       "      <td>271.23</td>\n",
       "      <td>Manhattan</td>\n",
       "    </tr>\n",
       "    <tr>\n",
       "      <th>4</th>\n",
       "      <td>TRIBECA</td>\n",
       "      <td>R4-CONDOMINIUM</td>\n",
       "      <td>239</td>\n",
       "      <td>1985.0</td>\n",
       "      <td>219495</td>\n",
       "      <td>10004582</td>\n",
       "      <td>45.58</td>\n",
       "      <td>2783197</td>\n",
       "      <td>12.68</td>\n",
       "      <td>7221385</td>\n",
       "      <td>54320996</td>\n",
       "      <td>247.48</td>\n",
       "      <td>Manhattan</td>\n",
       "    </tr>\n",
       "  </tbody>\n",
       "</table>\n",
       "</div>"
      ],
      "text/plain": [
       "  neighborhood            type  units  year_built   sq_ft    income  \\\n",
       "0    FINANCIAL  R9-CONDOMINIUM     42      1920.0   36500   1332615   \n",
       "1    FINANCIAL  R4-CONDOMINIUM     78      1985.0  126420   6633257   \n",
       "2    FINANCIAL  RR-CONDOMINIUM    500         NaN  554174  17310000   \n",
       "3    FINANCIAL  R4-CONDOMINIUM    282      1930.0  249076  11776313   \n",
       "4      TRIBECA  R4-CONDOMINIUM    239      1985.0  219495  10004582   \n",
       "\n",
       "   income_per_sq_ft  expense  expense_per_sq_ft  net_income     value  \\\n",
       "0             36.51   342005               9.37      990610   7300000   \n",
       "1             52.47  1762295              13.94     4870962  30690000   \n",
       "2             31.24  3543000               6.39    13767000  90970000   \n",
       "3             47.28  2784670              11.18     8991643  67556006   \n",
       "4             45.58  2783197              12.68     7221385  54320996   \n",
       "\n",
       "   value_per_sq_ft       boro  \n",
       "0           200.00  Manhattan  \n",
       "1           242.76  Manhattan  \n",
       "2           164.15  Manhattan  \n",
       "3           271.23  Manhattan  \n",
       "4           247.48  Manhattan  "
      ]
     },
     "execution_count": 2,
     "metadata": {},
     "output_type": "execute_result"
    }
   ],
   "source": [
    "housing.head()"
   ]
  },
  {
   "cell_type": "code",
   "execution_count": 3,
   "id": "5ceb94c9",
   "metadata": {},
   "outputs": [],
   "source": [
    "import statsmodels\n",
    "\n",
    "import statsmodels.api as sm\n",
    "\n",
    "import statsmodels.formula.api as smf"
   ]
  },
  {
   "cell_type": "code",
   "execution_count": 4,
   "id": "72c23bed",
   "metadata": {},
   "outputs": [
    {
     "name": "stdout",
     "output_type": "stream",
     "text": [
      "                 Generalized Linear Model Regression Results                  \n",
      "==============================================================================\n",
      "Dep. Variable:        value_per_sq_ft   No. Observations:                 2626\n",
      "Model:                            GLM   Df Residuals:                     2619\n",
      "Model Family:                Gaussian   Df Model:                            6\n",
      "Link Function:               identity   Scale:                          1879.5\n",
      "Method:                          IRLS   Log-Likelihood:                -13621.\n",
      "Date:                Sat, 30 Jul 2022   Deviance:                   4.9224e+06\n",
      "Time:                        07:07:13   Pearson chi2:                 4.92e+06\n",
      "No. Iterations:                     3   Pseudo R-squ. (CS):             0.7772\n",
      "Covariance Type:            nonrobust                                         \n",
      "=========================================================================================\n",
      "                            coef    std err          z      P>|z|      [0.025      0.975]\n",
      "-----------------------------------------------------------------------------------------\n",
      "Intercept                43.2909      5.330      8.122      0.000      32.845      53.737\n",
      "boro[T.Brooklyn]         34.5621      5.535      6.244      0.000      23.714      45.411\n",
      "boro[T.Manhattan]       130.9924      5.385     24.327      0.000     120.439     141.546\n",
      "boro[T.Queens]           32.9937      5.663      5.827      0.000      21.895      44.092\n",
      "boro[T.Staten Island]    -3.6303      9.993     -0.363      0.716     -23.216      15.956\n",
      "units                    -0.1881      0.022     -8.511      0.000      -0.231      -0.145\n",
      "sq_ft                     0.0002   2.09e-05     10.079      0.000       0.000       0.000\n",
      "=========================================================================================\n"
     ]
    }
   ],
   "source": [
    "house1 = smf.glm('value_per_sq_ft ~ units + sq_ft + boro',\n",
    "\n",
    "                  data=housing).fit()\n",
    "\n",
    "print(house1.summary())"
   ]
  },
  {
   "cell_type": "code",
   "execution_count": 5,
   "id": "9e06c637",
   "metadata": {},
   "outputs": [],
   "source": [
    "import seaborn as sns\n",
    "\n",
    "import matplotlib.pyplot as plt"
   ]
  },
  {
   "cell_type": "code",
   "execution_count": 6,
   "id": "e18fde97",
   "metadata": {},
   "outputs": [
    {
     "data": {
      "image/png": "[encoded data removed]",
      "text/plain": [
       "<Figure size 432x288 with 1 Axes>"
      ]
     },
     "metadata": {
      "needs_background": "light"
     },
     "output_type": "display_data"
    }
   ],
   "source": [
    "fig, ax = plt.subplots()\n",
    "\n",
    "ax = sns.regplot(x=house1.fittedvalues,\n",
    "\n",
    "            y=house1.resid_deviance, fit_reg=False)\n",
    "\n",
    "plt.show()"
   ]
  },
  {
   "cell_type": "code",
   "execution_count": 7,
   "id": "7818de48",
   "metadata": {},
   "outputs": [],
   "source": [
    "fig.savefig('resid_1')"
   ]
  },
  {
   "cell_type": "code",
   "execution_count": 8,
   "id": "b1da98c0",
   "metadata": {},
   "outputs": [
    {
     "data": {
      "image/png": "[encoded data removed]",
      "text/plain": [
       "<Figure size 461.625x360 with 1 Axes>"
      ]
     },
     "metadata": {
      "needs_background": "light"
     },
     "output_type": "display_data"
    }
   ],
   "source": [
    "res_df = pd.DataFrame({\n",
    "\n",
    "     'fittedvalues': house1.fittedvalues,\n",
    "\n",
    "     'resid_deviance': house1.resid_deviance,\n",
    "\n",
    "     'boro': housing['boro']\n",
    "\n",
    "})\n",
    "\n",
    "\n",
    "fig = sns.lmplot(x='fittedvalues', y='resid_deviance',\n",
    "\n",
    "                data=res_df, hue='boro', fit_reg=False)\n",
    "\n",
    "plt.show()\n"
   ]
  },
  {
   "cell_type": "code",
   "execution_count": 9,
   "id": "fd05d5c1",
   "metadata": {},
   "outputs": [],
   "source": [
    "fig.savefig('resid_boros')"
   ]
  },
  {
   "cell_type": "code",
   "execution_count": 10,
   "id": "acd5a096",
   "metadata": {},
   "outputs": [],
   "source": [
    "from scipy import stats"
   ]
  },
  {
   "cell_type": "code",
   "execution_count": 11,
   "id": "95d8f54a",
   "metadata": {},
   "outputs": [],
   "source": [
    "resid = house1.resid_deviance.copy()\n",
    "\n",
    "resid_std = stats.zscore(resid)"
   ]
  },
  {
   "cell_type": "code",
   "execution_count": 12,
   "id": "d5252d90",
   "metadata": {},
   "outputs": [
    {
     "data": {
      "text/plain": [
       "neighborhood          object\n",
       "type                  object\n",
       "units                  int64\n",
       "year_built           float64\n",
       "sq_ft                  int64\n",
       "income                 int64\n",
       "income_per_sq_ft     float64\n",
       "expense                int64\n",
       "expense_per_sq_ft    float64\n",
       "net_income             int64\n",
       "value                  int64\n",
       "value_per_sq_ft      float64\n",
       "boro                  object\n",
       "dtype: object"
      ]
     },
     "execution_count": 12,
     "metadata": {},
     "output_type": "execute_result"
    }
   ],
   "source": [
    "housing.dtypes"
   ]
  },
  {
   "cell_type": "code",
   "execution_count": 13,
   "id": "765c5220",
   "metadata": {},
   "outputs": [],
   "source": [
    "# the original housing data set has a column named class\n",
    "\n",
    "# this would cause an error if we used 'class'\n",
    "\n",
    "# because 'class' is a Python keyword\n",
    "\n",
    "# the column was renamed to 'type'\n",
    "\n",
    "f1 = 'value_per_sq_ft ~ units + sq_ft + boro'\n",
    "\n",
    "f2 = 'value_per_sq_ft ~ units * sq_ft + boro'\n",
    "\n",
    "f3 = 'value_per_sq_ft ~ units + sq_ft * boro + type'\n",
    "\n",
    "f4 = 'value_per_sq_ft ~ units + sq_ft * boro + sq_ft * type'\n",
    "\n",
    "f5 = 'value_per_sq_ft ~ boro + type'\n",
    "\n",
    "\n",
    "house1 = smf.ols(f1, data=housing).fit()\n",
    "\n",
    "house2 = smf.ols(f2, data=housing).fit()\n",
    "\n",
    "house3 = smf.ols(f3, data=housing).fit()\n",
    "\n",
    "house4 = smf.ols(f4, data=housing).fit()\n",
    "\n",
    "house5 = smf.ols(f5, data=housing).fit()"
   ]
  },
  {
   "cell_type": "code",
   "execution_count": 14,
   "id": "ad488591",
   "metadata": {},
   "outputs": [
    {
     "name": "stdout",
     "output_type": "stream",
     "text": [
      "                   param   model    estimate\n",
      "0              Intercept  house1   43.290863\n",
      "1       boro[T.Brooklyn]  house1   34.562150\n",
      "2      boro[T.Manhattan]  house1  130.992363\n",
      "3         boro[T.Queens]  house1   32.993674\n",
      "4  boro[T.Staten Island]  house1   -3.630251\n"
     ]
    }
   ],
   "source": [
    "mod_results = pd.concat([house1.params, house2.params, house3.params,\n",
    "\n",
    "          house4.params, house5.params], axis=1).rename(columns=lambda x: 'house' + \n",
    "str(x + 1)).reset_index().rename(columns={'index': 'param'}).melt(id_vars='param', var_name='model', value_name='estimate')\n",
    "\n",
    "\n",
    "\n",
    "print(mod_results.head())"
   ]
  },
  {
   "cell_type": "code",
   "execution_count": 15,
   "id": "db3f42d2",
   "metadata": {},
   "outputs": [
    {
     "name": "stdout",
     "output_type": "stream",
     "text": [
      "        df_resid           ssr  df_diff        ss_diff          F  \\\n",
      "house1    2619.0  4.922389e+06      0.0            NaN        NaN   \n",
      "house2    2618.0  4.884872e+06      1.0   37517.437605  20.039049   \n",
      "house3    2612.0  4.619926e+06      6.0  264945.539994  23.585728   \n",
      "house4    2609.0  4.576671e+06      3.0   43255.441192   7.701289   \n",
      "house5    2618.0  4.901463e+06     -9.0 -324791.847907  19.275539   \n",
      "\n",
      "              Pr(>F)  \n",
      "house1           NaN  \n",
      "house2  7.912333e-06  \n",
      "house3  2.754431e-27  \n",
      "house4  4.025581e-05  \n",
      "house5           NaN  \n"
     ]
    }
   ],
   "source": [
    "model_names = ['house1', 'house2', 'house3', 'house4', 'house5']\n",
    "\n",
    "house_anova = statsmodels.stats.anova.anova_lm(\n",
    "\n",
    "    house1, house2, house3, house4, house5)\n",
    "\n",
    "house_anova.index = model_names\n",
    "\n",
    "print(house_anova)"
   ]
  },
  {
   "cell_type": "code",
   "execution_count": 16,
   "id": "c1042aaf",
   "metadata": {},
   "outputs": [],
   "source": [
    "house_models = [house1, house2, house3, house4, house5]"
   ]
  },
  {
   "cell_type": "code",
   "execution_count": 17,
   "id": "ee748c21",
   "metadata": {},
   "outputs": [
    {
     "ename": "TypeError",
     "evalue": "'pandas._libs.properties.CachedProperty' object is not callable",
     "output_type": "error",
     "traceback": [
      "\u001b[0;31m---------------------------------------------------------------------------\u001b[0m",
      "\u001b[0;31mTypeError\u001b[0m                                 Traceback (most recent call last)",
      "Input \u001b[0;32mIn [17]\u001b[0m, in \u001b[0;36m<cell line: 1>\u001b[0;34m()\u001b[0m\n\u001b[0;32m----> 1\u001b[0m house_aic \u001b[38;5;241m=\u001b[39m \u001b[38;5;28;43mlist\u001b[39;49m\u001b[43m(\u001b[49m\n\u001b[1;32m      2\u001b[0m \n\u001b[1;32m      3\u001b[0m \u001b[43m    \u001b[49m\u001b[38;5;28;43mmap\u001b[39;49m\u001b[43m(\u001b[49m\u001b[43mstatsmodels\u001b[49m\u001b[38;5;241;43m.\u001b[39;49m\u001b[43mregression\u001b[49m\u001b[38;5;241;43m.\u001b[39;49m\u001b[43mlinear_model\u001b[49m\u001b[38;5;241;43m.\u001b[39;49m\u001b[43mRegressionResults\u001b[49m\u001b[38;5;241;43m.\u001b[39;49m\u001b[43maic\u001b[49m\u001b[43m,\u001b[49m\n\u001b[1;32m      4\u001b[0m \n\u001b[1;32m      5\u001b[0m \u001b[43m       \u001b[49m\u001b[43mhouse_models\u001b[49m\u001b[43m)\u001b[49m\u001b[43m)\u001b[49m\n\u001b[1;32m      7\u001b[0m house_bic \u001b[38;5;241m=\u001b[39m \u001b[38;5;28mlist\u001b[39m(\n\u001b[1;32m      8\u001b[0m \n\u001b[1;32m      9\u001b[0m     \u001b[38;5;28mmap\u001b[39m(statsmodels\u001b[38;5;241m.\u001b[39mregression\u001b[38;5;241m.\u001b[39mlinear_model\u001b[38;5;241m.\u001b[39mRegressionResults\u001b[38;5;241m.\u001b[39mbic,\n\u001b[1;32m     10\u001b[0m \n\u001b[1;32m     11\u001b[0m        house_models))\n\u001b[1;32m     13\u001b[0m \u001b[38;5;66;03m# remember dicts are unordered\u001b[39;00m\n",
      "\u001b[0;31mTypeError\u001b[0m: 'pandas._libs.properties.CachedProperty' object is not callable"
     ]
    }
   ],
   "source": [
    "house_aic = list(\n",
    "\n",
    "    map(statsmodels.regression.linear_model.RegressionResults.aic,\n",
    "\n",
    "       house_models))\n",
    "\n",
    "house_bic = list(\n",
    "\n",
    "    map(statsmodels.regression.linear_model.RegressionResults.bic,\n",
    "\n",
    "       house_models))\n",
    "\n",
    "# remember dicts are unordered\n",
    "\n",
    "abic = pd.DataFrame({\n",
    "\n",
    "    'model': model_names,\n",
    "\n",
    "    'aic': house_aic,\n",
    "\n",
    "    'bic': house_bic\n",
    "\n",
    "\n",
    "\n",
    "})"
   ]
  },
  {
   "cell_type": "code",
   "execution_count": null,
   "id": "fba504b8",
   "metadata": {},
   "outputs": [],
   "source": [
    "from sklearn.model_selection import train_test_split\n",
    "\n",
    "from sklearn.linear_model import LinearRegression"
   ]
  },
  {
   "cell_type": "code",
   "execution_count": null,
   "id": "3c46217c",
   "metadata": {},
   "outputs": [],
   "source": [
    "print(housing.columns)"
   ]
  },
  {
   "cell_type": "code",
   "execution_count": null,
   "id": "bc84c278",
   "metadata": {},
   "outputs": [],
   "source": [
    "# get training and test data\n",
    "\n",
    "X_train, X_test, y_train, y_test = train_test_split(\n",
    "\n",
    "    pd.get_dummies(housing[['units', 'sq_ft', 'boro']],\n",
    "\n",
    "                       drop_first=True),\n",
    "\n",
    "    housing['value_per_sq_ft'],\n",
    "\n",
    "    test_size=0.20,\n",
    "\n",
    "    random_state=42\n",
    "\n",
    ")"
   ]
  },
  {
   "cell_type": "code",
   "execution_count": null,
   "id": "eb839cd7",
   "metadata": {},
   "outputs": [],
   "source": [
    "lr = LinearRegression().fit(X_train, y_train)\n",
    "\n",
    "print(lr.score(X_test, y_test))"
   ]
  },
  {
   "cell_type": "code",
   "execution_count": null,
   "id": "0c017361",
   "metadata": {},
   "outputs": [],
   "source": [
    "from sklearn.model_selection import KFold, cross_val_score\n",
    "\n",
    "\n",
    "\n",
    "# get a fresh new housing data set\n",
    "\n",
    "housing = pd.read_csv('data/housing_renamed.csv')"
   ]
  },
  {
   "cell_type": "code",
   "execution_count": null,
   "id": "223dd00a",
   "metadata": {},
   "outputs": [],
   "source": [
    "kf = KFold(n_splits=5)\n"
   ]
  },
  {
   "cell_type": "code",
   "execution_count": null,
   "id": "b3bdc01a",
   "metadata": {},
   "outputs": [],
   "source": [
    "y, X = dmatrices('value_per_sq_ft ~ units + sq_ft + boro', housing)"
   ]
  },
  {
   "cell_type": "code",
   "execution_count": null,
   "id": "21b1ae0a",
   "metadata": {},
   "outputs": [],
   "source": [
    "model = LinearRegression()\n",
    "\n",
    "scores = cross_val_score(model, X, y, cv=5)\n",
    "\n",
    "print(scores)"
   ]
  },
  {
   "cell_type": "code",
   "execution_count": null,
   "id": "62652c0c",
   "metadata": {},
   "outputs": [],
   "source": []
  }
 ],
 "metadata": {
  "kernelspec": {
   "display_name": "Python 3 (ipykernel)",
   "language": "python",
   "name": "python3"
  },
  "language_info": {
   "codemirror_mode": {
    "name": "ipython",
    "version": 3
   },
   "file_extension": ".py",
   "mimetype": "text/x-python",
   "name": "python",
   "nbconvert_exporter": "python",
   "pygments_lexer": "ipython3",
   "version": "3.9.12"
  }
 },
 "nbformat": 4,
 "nbformat_minor": 5
}
