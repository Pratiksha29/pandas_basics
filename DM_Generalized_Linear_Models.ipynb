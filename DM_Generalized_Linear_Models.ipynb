{
 "cells": [
  {
   "cell_type": "code",
   "execution_count": 1,
   "id": "b833e8dc",
   "metadata": {},
   "outputs": [
    {
     "data": {
      "text/plain": [
       "Index(['Acres', 'FamilyIncome', 'FamilyType', 'NumBedrooms', 'NumChildren',\n",
       "       'NumPeople', 'NumRooms', 'NumUnits', 'NumVehicles', 'NumWorkers',\n",
       "       'OwnRent', 'YearBuilt', 'HouseCosts', 'ElectricBill', 'FoodStamp',\n",
       "       'HeatingFuel', 'Insurance', 'Language'],\n",
       "      dtype='object')"
      ]
     },
     "execution_count": 1,
     "metadata": {},
     "output_type": "execute_result"
    }
   ],
   "source": [
    "import pandas as pd\n",
    "\n",
    "\n",
    "\n",
    "acs = pd.read_csv('data/acs_ny.csv')\n",
    "\n",
    "acs.columns"
   ]
  },
  {
   "cell_type": "code",
   "execution_count": 2,
   "id": "a1109750",
   "metadata": {},
   "outputs": [
    {
     "data": {
      "text/html": [
       "<div>\n",
       "<style scoped>\n",
       "    .dataframe tbody tr th:only-of-type {\n",
       "        vertical-align: middle;\n",
       "    }\n",
       "\n",
       "    .dataframe tbody tr th {\n",
       "        vertical-align: top;\n",
       "    }\n",
       "\n",
       "    .dataframe thead th {\n",
       "        text-align: right;\n",
       "    }\n",
       "</style>\n",
       "<table border=\"1\" class=\"dataframe\">\n",
       "  <thead>\n",
       "    <tr style=\"text-align: right;\">\n",
       "      <th></th>\n",
       "      <th>Acres</th>\n",
       "      <th>FamilyIncome</th>\n",
       "      <th>FamilyType</th>\n",
       "      <th>NumBedrooms</th>\n",
       "      <th>NumChildren</th>\n",
       "      <th>NumPeople</th>\n",
       "      <th>NumRooms</th>\n",
       "      <th>NumUnits</th>\n",
       "      <th>NumVehicles</th>\n",
       "      <th>NumWorkers</th>\n",
       "      <th>OwnRent</th>\n",
       "      <th>YearBuilt</th>\n",
       "      <th>HouseCosts</th>\n",
       "      <th>ElectricBill</th>\n",
       "      <th>FoodStamp</th>\n",
       "      <th>HeatingFuel</th>\n",
       "      <th>Insurance</th>\n",
       "      <th>Language</th>\n",
       "    </tr>\n",
       "  </thead>\n",
       "  <tbody>\n",
       "    <tr>\n",
       "      <th>0</th>\n",
       "      <td>1-10</td>\n",
       "      <td>150</td>\n",
       "      <td>Married</td>\n",
       "      <td>4</td>\n",
       "      <td>1</td>\n",
       "      <td>3</td>\n",
       "      <td>9</td>\n",
       "      <td>Single detached</td>\n",
       "      <td>1</td>\n",
       "      <td>0</td>\n",
       "      <td>Mortgage</td>\n",
       "      <td>1950-1959</td>\n",
       "      <td>1800</td>\n",
       "      <td>90</td>\n",
       "      <td>No</td>\n",
       "      <td>Gas</td>\n",
       "      <td>2500</td>\n",
       "      <td>English</td>\n",
       "    </tr>\n",
       "    <tr>\n",
       "      <th>1</th>\n",
       "      <td>1-10</td>\n",
       "      <td>180</td>\n",
       "      <td>Female Head</td>\n",
       "      <td>3</td>\n",
       "      <td>2</td>\n",
       "      <td>4</td>\n",
       "      <td>6</td>\n",
       "      <td>Single detached</td>\n",
       "      <td>2</td>\n",
       "      <td>0</td>\n",
       "      <td>Rented</td>\n",
       "      <td>Before 1939</td>\n",
       "      <td>850</td>\n",
       "      <td>90</td>\n",
       "      <td>No</td>\n",
       "      <td>Oil</td>\n",
       "      <td>0</td>\n",
       "      <td>English</td>\n",
       "    </tr>\n",
       "    <tr>\n",
       "      <th>2</th>\n",
       "      <td>1-10</td>\n",
       "      <td>280</td>\n",
       "      <td>Female Head</td>\n",
       "      <td>4</td>\n",
       "      <td>0</td>\n",
       "      <td>2</td>\n",
       "      <td>8</td>\n",
       "      <td>Single detached</td>\n",
       "      <td>3</td>\n",
       "      <td>1</td>\n",
       "      <td>Mortgage</td>\n",
       "      <td>2000-2004</td>\n",
       "      <td>2600</td>\n",
       "      <td>260</td>\n",
       "      <td>No</td>\n",
       "      <td>Oil</td>\n",
       "      <td>6600</td>\n",
       "      <td>Other European</td>\n",
       "    </tr>\n",
       "    <tr>\n",
       "      <th>3</th>\n",
       "      <td>1-10</td>\n",
       "      <td>330</td>\n",
       "      <td>Female Head</td>\n",
       "      <td>2</td>\n",
       "      <td>1</td>\n",
       "      <td>2</td>\n",
       "      <td>4</td>\n",
       "      <td>Single detached</td>\n",
       "      <td>1</td>\n",
       "      <td>0</td>\n",
       "      <td>Rented</td>\n",
       "      <td>1950-1959</td>\n",
       "      <td>1800</td>\n",
       "      <td>140</td>\n",
       "      <td>No</td>\n",
       "      <td>Oil</td>\n",
       "      <td>0</td>\n",
       "      <td>English</td>\n",
       "    </tr>\n",
       "    <tr>\n",
       "      <th>4</th>\n",
       "      <td>1-10</td>\n",
       "      <td>330</td>\n",
       "      <td>Male Head</td>\n",
       "      <td>3</td>\n",
       "      <td>1</td>\n",
       "      <td>2</td>\n",
       "      <td>5</td>\n",
       "      <td>Single attached</td>\n",
       "      <td>1</td>\n",
       "      <td>0</td>\n",
       "      <td>Mortgage</td>\n",
       "      <td>Before 1939</td>\n",
       "      <td>860</td>\n",
       "      <td>150</td>\n",
       "      <td>No</td>\n",
       "      <td>Gas</td>\n",
       "      <td>660</td>\n",
       "      <td>Spanish</td>\n",
       "    </tr>\n",
       "  </tbody>\n",
       "</table>\n",
       "</div>"
      ],
      "text/plain": [
       "  Acres  FamilyIncome   FamilyType  NumBedrooms  NumChildren  NumPeople  \\\n",
       "0  1-10           150      Married            4            1          3   \n",
       "1  1-10           180  Female Head            3            2          4   \n",
       "2  1-10           280  Female Head            4            0          2   \n",
       "3  1-10           330  Female Head            2            1          2   \n",
       "4  1-10           330    Male Head            3            1          2   \n",
       "\n",
       "   NumRooms         NumUnits  NumVehicles  NumWorkers   OwnRent    YearBuilt  \\\n",
       "0         9  Single detached            1           0  Mortgage    1950-1959   \n",
       "1         6  Single detached            2           0    Rented  Before 1939   \n",
       "2         8  Single detached            3           1  Mortgage    2000-2004   \n",
       "3         4  Single detached            1           0    Rented    1950-1959   \n",
       "4         5  Single attached            1           0  Mortgage  Before 1939   \n",
       "\n",
       "   HouseCosts  ElectricBill FoodStamp HeatingFuel  Insurance        Language  \n",
       "0        1800            90        No         Gas       2500         English  \n",
       "1         850            90        No         Oil          0         English  \n",
       "2        2600           260        No         Oil       6600  Other European  \n",
       "3        1800           140        No         Oil          0         English  \n",
       "4         860           150        No         Gas        660         Spanish  "
      ]
     },
     "execution_count": 2,
     "metadata": {},
     "output_type": "execute_result"
    }
   ],
   "source": [
    "acs.head()"
   ]
  },
  {
   "cell_type": "code",
   "execution_count": 3,
   "id": "dfda14af",
   "metadata": {},
   "outputs": [
    {
     "data": {
      "text/plain": [
       "Acres           object\n",
       "FamilyIncome     int64\n",
       "FamilyType      object\n",
       "NumBedrooms      int64\n",
       "NumChildren      int64\n",
       "NumPeople        int64\n",
       "NumRooms         int64\n",
       "NumUnits        object\n",
       "NumVehicles      int64\n",
       "NumWorkers       int64\n",
       "OwnRent         object\n",
       "YearBuilt       object\n",
       "HouseCosts       int64\n",
       "ElectricBill     int64\n",
       "FoodStamp       object\n",
       "HeatingFuel     object\n",
       "Insurance        int64\n",
       "Language        object\n",
       "dtype: object"
      ]
     },
     "execution_count": 3,
     "metadata": {},
     "output_type": "execute_result"
    }
   ],
   "source": [
    "acs.dtypes"
   ]
  },
  {
   "cell_type": "code",
   "execution_count": 4,
   "id": "0145dbeb",
   "metadata": {},
   "outputs": [
    {
     "name": "stdout",
     "output_type": "stream",
     "text": [
      "0    18294\n",
      "1     4451\n",
      "Name: ge150k_i, dtype: int64\n"
     ]
    }
   ],
   "source": [
    "acs['ge150k'] = pd.cut(acs['FamilyIncome'],[0, 150000, acs['FamilyIncome'].max()],labels=[0, 1])\n",
    "\n",
    "acs['ge150k_i'] = acs['ge150k'].astype(int)\n",
    "\n",
    "print(acs['ge150k_i'].value_counts())"
   ]
  },
  {
   "cell_type": "code",
   "execution_count": 5,
   "id": "b27c9abd",
   "metadata": {},
   "outputs": [
    {
     "data": {
      "text/html": [
       "<div>\n",
       "<style scoped>\n",
       "    .dataframe tbody tr th:only-of-type {\n",
       "        vertical-align: middle;\n",
       "    }\n",
       "\n",
       "    .dataframe tbody tr th {\n",
       "        vertical-align: top;\n",
       "    }\n",
       "\n",
       "    .dataframe thead th {\n",
       "        text-align: right;\n",
       "    }\n",
       "</style>\n",
       "<table border=\"1\" class=\"dataframe\">\n",
       "  <thead>\n",
       "    <tr style=\"text-align: right;\">\n",
       "      <th></th>\n",
       "      <th>Acres</th>\n",
       "      <th>FamilyIncome</th>\n",
       "      <th>FamilyType</th>\n",
       "      <th>NumBedrooms</th>\n",
       "      <th>NumChildren</th>\n",
       "      <th>NumPeople</th>\n",
       "      <th>NumRooms</th>\n",
       "      <th>NumUnits</th>\n",
       "      <th>NumVehicles</th>\n",
       "      <th>NumWorkers</th>\n",
       "      <th>OwnRent</th>\n",
       "      <th>YearBuilt</th>\n",
       "      <th>HouseCosts</th>\n",
       "      <th>ElectricBill</th>\n",
       "      <th>FoodStamp</th>\n",
       "      <th>HeatingFuel</th>\n",
       "      <th>Insurance</th>\n",
       "      <th>Language</th>\n",
       "      <th>ge150k</th>\n",
       "      <th>ge150k_i</th>\n",
       "    </tr>\n",
       "  </thead>\n",
       "  <tbody>\n",
       "    <tr>\n",
       "      <th>3811</th>\n",
       "      <td>1-10</td>\n",
       "      <td>150050</td>\n",
       "      <td>Married</td>\n",
       "      <td>4</td>\n",
       "      <td>2</td>\n",
       "      <td>4</td>\n",
       "      <td>7</td>\n",
       "      <td>Single detached</td>\n",
       "      <td>3</td>\n",
       "      <td>2</td>\n",
       "      <td>Mortgage</td>\n",
       "      <td>1980-1989</td>\n",
       "      <td>2200</td>\n",
       "      <td>90</td>\n",
       "      <td>No</td>\n",
       "      <td>Oil</td>\n",
       "      <td>500</td>\n",
       "      <td>English</td>\n",
       "      <td>1</td>\n",
       "      <td>1</td>\n",
       "    </tr>\n",
       "    <tr>\n",
       "      <th>3812</th>\n",
       "      <td>1-10</td>\n",
       "      <td>150100</td>\n",
       "      <td>Married</td>\n",
       "      <td>4</td>\n",
       "      <td>1</td>\n",
       "      <td>4</td>\n",
       "      <td>10</td>\n",
       "      <td>Single detached</td>\n",
       "      <td>3</td>\n",
       "      <td>2</td>\n",
       "      <td>Mortgage</td>\n",
       "      <td>1990-1999</td>\n",
       "      <td>2000</td>\n",
       "      <td>100</td>\n",
       "      <td>No</td>\n",
       "      <td>Oil</td>\n",
       "      <td>500</td>\n",
       "      <td>English</td>\n",
       "      <td>1</td>\n",
       "      <td>1</td>\n",
       "    </tr>\n",
       "    <tr>\n",
       "      <th>3813</th>\n",
       "      <td>1-10</td>\n",
       "      <td>150300</td>\n",
       "      <td>Married</td>\n",
       "      <td>2</td>\n",
       "      <td>0</td>\n",
       "      <td>2</td>\n",
       "      <td>5</td>\n",
       "      <td>Single detached</td>\n",
       "      <td>2</td>\n",
       "      <td>1</td>\n",
       "      <td>Mortgage</td>\n",
       "      <td>1960-1969</td>\n",
       "      <td>1300</td>\n",
       "      <td>160</td>\n",
       "      <td>No</td>\n",
       "      <td>Oil</td>\n",
       "      <td>920</td>\n",
       "      <td>English</td>\n",
       "      <td>1</td>\n",
       "      <td>1</td>\n",
       "    </tr>\n",
       "    <tr>\n",
       "      <th>3814</th>\n",
       "      <td>1-10</td>\n",
       "      <td>150300</td>\n",
       "      <td>Married</td>\n",
       "      <td>3</td>\n",
       "      <td>2</td>\n",
       "      <td>4</td>\n",
       "      <td>8</td>\n",
       "      <td>Single detached</td>\n",
       "      <td>2</td>\n",
       "      <td>1</td>\n",
       "      <td>Mortgage</td>\n",
       "      <td>1970-1979</td>\n",
       "      <td>2000</td>\n",
       "      <td>80</td>\n",
       "      <td>No</td>\n",
       "      <td>Oil</td>\n",
       "      <td>1000</td>\n",
       "      <td>English</td>\n",
       "      <td>1</td>\n",
       "      <td>1</td>\n",
       "    </tr>\n",
       "    <tr>\n",
       "      <th>3815</th>\n",
       "      <td>1-10</td>\n",
       "      <td>150900</td>\n",
       "      <td>Married</td>\n",
       "      <td>4</td>\n",
       "      <td>1</td>\n",
       "      <td>4</td>\n",
       "      <td>7</td>\n",
       "      <td>Single detached</td>\n",
       "      <td>3</td>\n",
       "      <td>3</td>\n",
       "      <td>Mortgage</td>\n",
       "      <td>1940-1949</td>\n",
       "      <td>2000</td>\n",
       "      <td>90</td>\n",
       "      <td>No</td>\n",
       "      <td>Oil</td>\n",
       "      <td>1600</td>\n",
       "      <td>English</td>\n",
       "      <td>1</td>\n",
       "      <td>1</td>\n",
       "    </tr>\n",
       "  </tbody>\n",
       "</table>\n",
       "</div>"
      ],
      "text/plain": [
       "     Acres  FamilyIncome FamilyType  NumBedrooms  NumChildren  NumPeople  \\\n",
       "3811  1-10        150050    Married            4            2          4   \n",
       "3812  1-10        150100    Married            4            1          4   \n",
       "3813  1-10        150300    Married            2            0          2   \n",
       "3814  1-10        150300    Married            3            2          4   \n",
       "3815  1-10        150900    Married            4            1          4   \n",
       "\n",
       "      NumRooms         NumUnits  NumVehicles  NumWorkers   OwnRent  YearBuilt  \\\n",
       "3811         7  Single detached            3           2  Mortgage  1980-1989   \n",
       "3812        10  Single detached            3           2  Mortgage  1990-1999   \n",
       "3813         5  Single detached            2           1  Mortgage  1960-1969   \n",
       "3814         8  Single detached            2           1  Mortgage  1970-1979   \n",
       "3815         7  Single detached            3           3  Mortgage  1940-1949   \n",
       "\n",
       "      HouseCosts  ElectricBill FoodStamp HeatingFuel  Insurance Language  \\\n",
       "3811        2200            90        No         Oil        500  English   \n",
       "3812        2000           100        No         Oil        500  English   \n",
       "3813        1300           160        No         Oil        920  English   \n",
       "3814        2000            80        No         Oil       1000  English   \n",
       "3815        2000            90        No         Oil       1600  English   \n",
       "\n",
       "     ge150k  ge150k_i  \n",
       "3811      1         1  \n",
       "3812      1         1  \n",
       "3813      1         1  \n",
       "3814      1         1  \n",
       "3815      1         1  "
      ]
     },
     "execution_count": 5,
     "metadata": {},
     "output_type": "execute_result"
    }
   ],
   "source": [
    "acs[acs['ge150k_i']==1].head()"
   ]
  },
  {
   "cell_type": "code",
   "execution_count": 6,
   "id": "dfa3df50",
   "metadata": {},
   "outputs": [
    {
     "name": "stdout",
     "output_type": "stream",
     "text": [
      "Optimization terminated successfully.\n",
      "         Current function value: 0.391651\n",
      "         Iterations 7\n"
     ]
    }
   ],
   "source": [
    "import statsmodels.formula.api as smf\n",
    "\n",
    "\n",
    "\n",
    "model = smf.logit('ge150k_i ~ HouseCosts + NumWorkers + OwnRent + NumBedrooms + FamilyType', data = acs)\n",
    "\n",
    "results = model.fit()"
   ]
  },
  {
   "cell_type": "code",
   "execution_count": 7,
   "id": "47067d38",
   "metadata": {},
   "outputs": [
    {
     "name": "stdout",
     "output_type": "stream",
     "text": [
      "                           Logit Regression Results                           \n",
      "==============================================================================\n",
      "Dep. Variable:               ge150k_i   No. Observations:                22745\n",
      "Model:                          Logit   Df Residuals:                    22737\n",
      "Method:                           MLE   Df Model:                            7\n",
      "Date:                Thu, 28 Jul 2022   Pseudo R-squ.:                  0.2078\n",
      "Time:                        22:54:22   Log-Likelihood:                -8908.1\n",
      "converged:                       True   LL-Null:                       -11244.\n",
      "Covariance Type:            nonrobust   LLR p-value:                     0.000\n",
      "===========================================================================================\n",
      "                              coef    std err          z      P>|z|      [0.025      0.975]\n",
      "-------------------------------------------------------------------------------------------\n",
      "Intercept                  -5.8081      0.120    -48.456      0.000      -6.043      -5.573\n",
      "OwnRent[T.Outright]         1.8276      0.208      8.782      0.000       1.420       2.236\n",
      "OwnRent[T.Rented]          -0.8763      0.101     -8.647      0.000      -1.075      -0.678\n",
      "FamilyType[T.Male Head]     0.2874      0.150      1.913      0.056      -0.007       0.582\n",
      "FamilyType[T.Married]       1.3877      0.088     15.781      0.000       1.215       1.560\n",
      "HouseCosts                  0.0007   1.72e-05     42.453      0.000       0.001       0.001\n",
      "NumWorkers                  0.5873      0.026     22.393      0.000       0.536       0.639\n",
      "NumBedrooms                 0.2365      0.017     13.985      0.000       0.203       0.270\n",
      "===========================================================================================\n"
     ]
    }
   ],
   "source": [
    "print(results.summary())"
   ]
  },
  {
   "cell_type": "code",
   "execution_count": 8,
   "id": "598c941b",
   "metadata": {},
   "outputs": [
    {
     "name": "stdout",
     "output_type": "stream",
     "text": [
      "Intercept                  0.003003\n",
      "OwnRent[T.Outright]        6.219147\n",
      "OwnRent[T.Rented]          0.416310\n",
      "FamilyType[T.Male Head]    1.332901\n",
      "FamilyType[T.Married]      4.005636\n",
      "HouseCosts                 1.000731\n",
      "NumWorkers                 1.799117\n",
      "NumBedrooms                1.266852\n",
      "dtype: float64\n"
     ]
    }
   ],
   "source": [
    "import numpy as np\n",
    "odds_ratios = np.exp(results.params)\n",
    "\n",
    "print(odds_ratios)"
   ]
  },
  {
   "cell_type": "code",
   "execution_count": 9,
   "id": "e3e21336",
   "metadata": {},
   "outputs": [],
   "source": [
    "predictors = pd.get_dummies(\n",
    "\n",
    "    acs[['HouseCosts', 'NumWorkers', 'OwnRent', 'NumBedrooms',\n",
    "\n",
    "         'FamilyType']],\n",
    "\n",
    "    drop_first=True)"
   ]
  },
  {
   "cell_type": "code",
   "execution_count": 10,
   "id": "8a9955a3",
   "metadata": {},
   "outputs": [
    {
     "data": {
      "text/html": [
       "<div>\n",
       "<style scoped>\n",
       "    .dataframe tbody tr th:only-of-type {\n",
       "        vertical-align: middle;\n",
       "    }\n",
       "\n",
       "    .dataframe tbody tr th {\n",
       "        vertical-align: top;\n",
       "    }\n",
       "\n",
       "    .dataframe thead th {\n",
       "        text-align: right;\n",
       "    }\n",
       "</style>\n",
       "<table border=\"1\" class=\"dataframe\">\n",
       "  <thead>\n",
       "    <tr style=\"text-align: right;\">\n",
       "      <th></th>\n",
       "      <th>HouseCosts</th>\n",
       "      <th>NumWorkers</th>\n",
       "      <th>NumBedrooms</th>\n",
       "      <th>OwnRent_Outright</th>\n",
       "      <th>OwnRent_Rented</th>\n",
       "      <th>FamilyType_Male Head</th>\n",
       "      <th>FamilyType_Married</th>\n",
       "    </tr>\n",
       "  </thead>\n",
       "  <tbody>\n",
       "    <tr>\n",
       "      <th>0</th>\n",
       "      <td>1800</td>\n",
       "      <td>0</td>\n",
       "      <td>4</td>\n",
       "      <td>0</td>\n",
       "      <td>0</td>\n",
       "      <td>0</td>\n",
       "      <td>1</td>\n",
       "    </tr>\n",
       "    <tr>\n",
       "      <th>1</th>\n",
       "      <td>850</td>\n",
       "      <td>0</td>\n",
       "      <td>3</td>\n",
       "      <td>0</td>\n",
       "      <td>1</td>\n",
       "      <td>0</td>\n",
       "      <td>0</td>\n",
       "    </tr>\n",
       "    <tr>\n",
       "      <th>2</th>\n",
       "      <td>2600</td>\n",
       "      <td>1</td>\n",
       "      <td>4</td>\n",
       "      <td>0</td>\n",
       "      <td>0</td>\n",
       "      <td>0</td>\n",
       "      <td>0</td>\n",
       "    </tr>\n",
       "    <tr>\n",
       "      <th>3</th>\n",
       "      <td>1800</td>\n",
       "      <td>0</td>\n",
       "      <td>2</td>\n",
       "      <td>0</td>\n",
       "      <td>1</td>\n",
       "      <td>0</td>\n",
       "      <td>0</td>\n",
       "    </tr>\n",
       "    <tr>\n",
       "      <th>4</th>\n",
       "      <td>860</td>\n",
       "      <td>0</td>\n",
       "      <td>3</td>\n",
       "      <td>0</td>\n",
       "      <td>0</td>\n",
       "      <td>1</td>\n",
       "      <td>0</td>\n",
       "    </tr>\n",
       "  </tbody>\n",
       "</table>\n",
       "</div>"
      ],
      "text/plain": [
       "   HouseCosts  NumWorkers  NumBedrooms  OwnRent_Outright  OwnRent_Rented  \\\n",
       "0        1800           0            4                 0               0   \n",
       "1         850           0            3                 0               1   \n",
       "2        2600           1            4                 0               0   \n",
       "3        1800           0            2                 0               1   \n",
       "4         860           0            3                 0               0   \n",
       "\n",
       "   FamilyType_Male Head  FamilyType_Married  \n",
       "0                     0                   1  \n",
       "1                     0                   0  \n",
       "2                     0                   0  \n",
       "3                     0                   0  \n",
       "4                     1                   0  "
      ]
     },
     "execution_count": 10,
     "metadata": {},
     "output_type": "execute_result"
    }
   ],
   "source": [
    "predictors.head()"
   ]
  },
  {
   "cell_type": "code",
   "execution_count": 11,
   "id": "2ed09e07",
   "metadata": {},
   "outputs": [],
   "source": [
    "from sklearn import linear_model\n",
    "\n",
    "lr = linear_model.LogisticRegression(max_iter=1000)"
   ]
  },
  {
   "cell_type": "code",
   "execution_count": 12,
   "id": "9f53313b",
   "metadata": {
    "scrolled": true
   },
   "outputs": [],
   "source": [
    "results = lr.fit(X = predictors, y = acs['ge150k_i'])"
   ]
  },
  {
   "cell_type": "code",
   "execution_count": 13,
   "id": "3ca95eb0",
   "metadata": {},
   "outputs": [
    {
     "name": "stdout",
     "output_type": "stream",
     "text": [
      "[[ 7.26333361e-04  5.81574189e-01  2.38528787e-01  5.66490557e-01\n",
      "  -6.91848053e-01 -3.34327809e-01  1.22059304e+00]]\n"
     ]
    }
   ],
   "source": [
    "print(results.coef_)"
   ]
  },
  {
   "cell_type": "code",
   "execution_count": 14,
   "id": "21f093d6",
   "metadata": {},
   "outputs": [
    {
     "name": "stdout",
     "output_type": "stream",
     "text": [
      "[-5.62856799]\n"
     ]
    }
   ],
   "source": [
    "print(results.intercept_)"
   ]
  },
  {
   "cell_type": "code",
   "execution_count": 15,
   "id": "4ee96a33",
   "metadata": {},
   "outputs": [],
   "source": [
    "values = np.append(results.intercept_, results.coef_)\n",
    "\n",
    "# get the names of the values\n",
    "\n",
    "names = np.append('intercept', predictors.columns)"
   ]
  },
  {
   "cell_type": "code",
   "execution_count": 16,
   "id": "de218d69",
   "metadata": {},
   "outputs": [],
   "source": [
    "results = pd.DataFrame(values, index = names,\n",
    "\n",
    "     columns=['coef'] # you need the square brackets here\n",
    "\n",
    ")"
   ]
  },
  {
   "cell_type": "code",
   "execution_count": 17,
   "id": "4da7f72b",
   "metadata": {},
   "outputs": [
    {
     "data": {
      "text/html": [
       "<div>\n",
       "<style scoped>\n",
       "    .dataframe tbody tr th:only-of-type {\n",
       "        vertical-align: middle;\n",
       "    }\n",
       "\n",
       "    .dataframe tbody tr th {\n",
       "        vertical-align: top;\n",
       "    }\n",
       "\n",
       "    .dataframe thead th {\n",
       "        text-align: right;\n",
       "    }\n",
       "</style>\n",
       "<table border=\"1\" class=\"dataframe\">\n",
       "  <thead>\n",
       "    <tr style=\"text-align: right;\">\n",
       "      <th></th>\n",
       "      <th>coef</th>\n",
       "    </tr>\n",
       "  </thead>\n",
       "  <tbody>\n",
       "    <tr>\n",
       "      <th>intercept</th>\n",
       "      <td>-5.628568</td>\n",
       "    </tr>\n",
       "    <tr>\n",
       "      <th>HouseCosts</th>\n",
       "      <td>0.000726</td>\n",
       "    </tr>\n",
       "    <tr>\n",
       "      <th>NumWorkers</th>\n",
       "      <td>0.581574</td>\n",
       "    </tr>\n",
       "    <tr>\n",
       "      <th>NumBedrooms</th>\n",
       "      <td>0.238529</td>\n",
       "    </tr>\n",
       "    <tr>\n",
       "      <th>OwnRent_Outright</th>\n",
       "      <td>0.566491</td>\n",
       "    </tr>\n",
       "    <tr>\n",
       "      <th>OwnRent_Rented</th>\n",
       "      <td>-0.691848</td>\n",
       "    </tr>\n",
       "    <tr>\n",
       "      <th>FamilyType_Male Head</th>\n",
       "      <td>-0.334328</td>\n",
       "    </tr>\n",
       "    <tr>\n",
       "      <th>FamilyType_Married</th>\n",
       "      <td>1.220593</td>\n",
       "    </tr>\n",
       "  </tbody>\n",
       "</table>\n",
       "</div>"
      ],
      "text/plain": [
       "                          coef\n",
       "intercept            -5.628568\n",
       "HouseCosts            0.000726\n",
       "NumWorkers            0.581574\n",
       "NumBedrooms           0.238529\n",
       "OwnRent_Outright      0.566491\n",
       "OwnRent_Rented       -0.691848\n",
       "FamilyType_Male Head -0.334328\n",
       "FamilyType_Married    1.220593"
      ]
     },
     "execution_count": 17,
     "metadata": {},
     "output_type": "execute_result"
    }
   ],
   "source": [
    "results"
   ]
  },
  {
   "cell_type": "code",
   "execution_count": 18,
   "id": "f7364c7f",
   "metadata": {},
   "outputs": [
    {
     "name": "stdout",
     "output_type": "stream",
     "text": [
      "Optimization terminated successfully.\n",
      "         Current function value: nan\n",
      "         Iterations 1\n"
     ]
    },
    {
     "name": "stderr",
     "output_type": "stream",
     "text": [
      "/opt/anaconda3/envs/pfe/lib/python3.9/site-packages/statsmodels/discrete/discrete_model.py:1333: RuntimeWarning: overflow encountered in exp\n",
      "  L = np.exp(np.dot(X,params) + exposure + offset)\n",
      "/opt/anaconda3/envs/pfe/lib/python3.9/site-packages/statsmodels/discrete/discrete_model.py:1334: RuntimeWarning: overflow encountered in multiply\n",
      "  return -np.dot(L*X.T, X)\n",
      "/opt/anaconda3/envs/pfe/lib/python3.9/site-packages/statsmodels/discrete/discrete_model.py:1334: RuntimeWarning: invalid value encountered in multiply\n",
      "  return -np.dot(L*X.T, X)\n",
      "/opt/anaconda3/envs/pfe/lib/python3.9/site-packages/statsmodels/discrete/discrete_model.py:1243: RuntimeWarning: overflow encountered in exp\n",
      "  L = np.exp(np.dot(X,params) + offset + exposure)\n"
     ]
    }
   ],
   "source": [
    "results = smf.poisson(\n",
    "\n",
    "    'NumChildren ~ FamilyIncome + FamilyType + OwnRent',\n",
    "\n",
    "    data=acs).fit()"
   ]
  },
  {
   "cell_type": "code",
   "execution_count": 19,
   "id": "8e7d2af6",
   "metadata": {},
   "outputs": [
    {
     "name": "stdout",
     "output_type": "stream",
     "text": [
      "                          Poisson Regression Results                          \n",
      "==============================================================================\n",
      "Dep. Variable:            NumChildren   No. Observations:                22745\n",
      "Model:                        Poisson   Df Residuals:                    22739\n",
      "Method:                           MLE   Df Model:                            5\n",
      "Date:                Thu, 28 Jul 2022   Pseudo R-squ.:                     nan\n",
      "Time:                        22:54:22   Log-Likelihood:                    nan\n",
      "converged:                       True   LL-Null:                       -30977.\n",
      "Covariance Type:            nonrobust   LLR p-value:                       nan\n",
      "===========================================================================================\n",
      "                              coef    std err          z      P>|z|      [0.025      0.975]\n",
      "-------------------------------------------------------------------------------------------\n",
      "Intercept                      nan        nan        nan        nan         nan         nan\n",
      "FamilyType[T.Male Head]        nan        nan        nan        nan         nan         nan\n",
      "FamilyType[T.Married]          nan        nan        nan        nan         nan         nan\n",
      "OwnRent[T.Outright]            nan        nan        nan        nan         nan         nan\n",
      "OwnRent[T.Rented]              nan        nan        nan        nan         nan         nan\n",
      "FamilyIncome                   nan        nan        nan        nan         nan         nan\n",
      "===========================================================================================\n"
     ]
    }
   ],
   "source": [
    "print(results.summary())"
   ]
  },
  {
   "cell_type": "code",
   "execution_count": 21,
   "id": "06a43640",
   "metadata": {},
   "outputs": [
    {
     "name": "stdout",
     "output_type": "stream",
     "text": [
      "   id  rx  number  size  stop  event  enum\n",
      "0   1   1       1     3     1      0     1\n",
      "1   1   1       1     3     1      0     2\n",
      "2   1   1       1     3     1      0     3\n",
      "3   1   1       1     3     1      0     4\n",
      "4   2   1       2     1     4      0     1\n"
     ]
    }
   ],
   "source": [
    "bladder = pd.read_csv('data/bladder.csv')\n",
    "\n",
    "print(bladder.head())"
   ]
  },
  {
   "cell_type": "code",
   "execution_count": 22,
   "id": "d7ff60c7",
   "metadata": {},
   "outputs": [
    {
     "name": "stdout",
     "output_type": "stream",
     "text": [
      "1    188\n",
      "2    152\n",
      "Name: rx, dtype: int64\n"
     ]
    }
   ],
   "source": [
    "print(bladder['rx'].value_counts())"
   ]
  },
  {
   "cell_type": "code",
   "execution_count": 23,
   "id": "91994016",
   "metadata": {},
   "outputs": [],
   "source": [
    "from lifelines import KaplanMeierFitter"
   ]
  },
  {
   "cell_type": "code",
   "execution_count": 24,
   "id": "37b523d6",
   "metadata": {},
   "outputs": [
    {
     "data": {
      "text/plain": [
       "<lifelines.KaplanMeierFitter:\"KM_estimate\", fitted with 340 total observations, 228 right-censored observations>"
      ]
     },
     "execution_count": 24,
     "metadata": {},
     "output_type": "execute_result"
    }
   ],
   "source": [
    "kmf = KaplanMeierFitter()\n",
    "\n",
    "kmf.fit(bladder['stop'], event_observed=bladder['event'])"
   ]
  },
  {
   "cell_type": "code",
   "execution_count": 25,
   "id": "8cdbf624",
   "metadata": {},
   "outputs": [],
   "source": [
    "import matplotlib.pyplot as plt"
   ]
  },
  {
   "cell_type": "code",
   "execution_count": 26,
   "id": "5c56d65e",
   "metadata": {},
   "outputs": [
    {
     "data": {
      "image/png": "[encoded data removed]",
      "text/plain": [
       "<Figure size 432x288 with 1 Axes>"
      ]
     },
     "metadata": {
      "needs_background": "light"
     },
     "output_type": "display_data"
    }
   ],
   "source": [
    "fig, ax = plt.subplots()\n",
    "\n",
    "ax = kmf.survival_function_.plot(ax=ax)\n",
    "\n",
    "ax.set_title('Survival function of political regimes')\n",
    "\n",
    "plt.show()"
   ]
  },
  {
   "cell_type": "code",
   "execution_count": 27,
   "id": "9af96290",
   "metadata": {},
   "outputs": [
    {
     "data": {
      "image/png": "[encoded data removed]",
      "text/plain": [
       "<Figure size 432x288 with 1 Axes>"
      ]
     },
     "metadata": {
      "needs_background": "light"
     },
     "output_type": "display_data"
    }
   ],
   "source": [
    "fig, ax = plt.subplots()\n",
    "\n",
    "ax = kmf.plot(ax=ax)\n",
    "\n",
    "ax.set_title('Survival with confidence intervals')\n",
    "\n",
    "plt.show()\n",
    "\n"
   ]
  },
  {
   "cell_type": "code",
   "execution_count": null,
   "id": "52ebaee4",
   "metadata": {},
   "outputs": [],
   "source": []
  }
 ],
 "metadata": {
  "kernelspec": {
   "display_name": "Python 3 (ipykernel)",
   "language": "python",
   "name": "python3"
  },
  "language_info": {
   "codemirror_mode": {
    "name": "ipython",
    "version": 3
   },
   "file_extension": ".py",
   "mimetype": "text/x-python",
   "name": "python",
   "nbconvert_exporter": "python",
   "pygments_lexer": "ipython3",
   "version": "3.9.12"
  }
 },
 "nbformat": 4,
 "nbformat_minor": 5
}
