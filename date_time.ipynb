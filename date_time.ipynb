{
 "cells": [
  {
   "cell_type": "markdown",
   "id": "6234d870",
   "metadata": {},
   "source": [
    "## 11. The datetime Data Type"
   ]
  },
  {
   "cell_type": "code",
   "execution_count": 1,
   "id": "23541580",
   "metadata": {},
   "outputs": [],
   "source": [
    "from datetime import datetime"
   ]
  },
  {
   "cell_type": "code",
   "execution_count": 2,
   "id": "abe7b5db",
   "metadata": {},
   "outputs": [
    {
     "name": "stdout",
     "output_type": "stream",
     "text": [
      "2022-07-25 09:28:03.772553\n"
     ]
    }
   ],
   "source": [
    "now = datetime.now()\n",
    "\n",
    "print(now)"
   ]
  },
  {
   "cell_type": "code",
   "execution_count": 3,
   "id": "6c0e382a",
   "metadata": {},
   "outputs": [],
   "source": [
    "t1 = datetime.now()\n",
    "\n",
    "t2 = datetime(1970, 1, 1)"
   ]
  },
  {
   "cell_type": "code",
   "execution_count": 4,
   "id": "10a21b04",
   "metadata": {},
   "outputs": [
    {
     "name": "stdout",
     "output_type": "stream",
     "text": [
      "19198 days, 9:28:03.778614\n"
     ]
    }
   ],
   "source": [
    "diff = t1 - t2\n",
    "\n",
    "print(diff)"
   ]
  },
  {
   "cell_type": "code",
   "execution_count": 5,
   "id": "4dcde952",
   "metadata": {},
   "outputs": [
    {
     "name": "stdout",
     "output_type": "stream",
     "text": [
      "<class 'datetime.timedelta'>\n"
     ]
    }
   ],
   "source": [
    "print(type(diff))"
   ]
  },
  {
   "cell_type": "code",
   "execution_count": 6,
   "id": "4ac3c8b3",
   "metadata": {},
   "outputs": [],
   "source": [
    "import pandas as pd\n",
    "\n",
    "ebola = pd.read_csv('data/country_timeseries.csv')\n"
   ]
  },
  {
   "cell_type": "code",
   "execution_count": 7,
   "id": "0fdb0db7",
   "metadata": {},
   "outputs": [
    {
     "data": {
      "text/plain": [
       "count          122\n",
       "unique         122\n",
       "top       1/5/2015\n",
       "freq             1\n",
       "Name: Date, dtype: object"
      ]
     },
     "execution_count": 7,
     "metadata": {},
     "output_type": "execute_result"
    }
   ],
   "source": [
    "ebola.Date.describe()"
   ]
  },
  {
   "cell_type": "code",
   "execution_count": 8,
   "id": "045767df",
   "metadata": {},
   "outputs": [],
   "source": [
    "ebola['date_dt'] = pd.to_datetime(ebola['Date'], format='%m/%d/%Y')"
   ]
  },
  {
   "cell_type": "code",
   "execution_count": 9,
   "id": "d7b875e6",
   "metadata": {},
   "outputs": [
    {
     "data": {
      "text/plain": [
       "Date                           object\n",
       "Day                             int64\n",
       "Cases_Guinea                  float64\n",
       "Cases_Liberia                 float64\n",
       "Cases_SierraLeone             float64\n",
       "Cases_Nigeria                 float64\n",
       "Cases_Senegal                 float64\n",
       "Cases_UnitedStates            float64\n",
       "Cases_Spain                   float64\n",
       "Cases_Mali                    float64\n",
       "Deaths_Guinea                 float64\n",
       "Deaths_Liberia                float64\n",
       "Deaths_SierraLeone            float64\n",
       "Deaths_Nigeria                float64\n",
       "Deaths_Senegal                float64\n",
       "Deaths_UnitedStates           float64\n",
       "Deaths_Spain                  float64\n",
       "Deaths_Mali                   float64\n",
       "date_dt                datetime64[ns]\n",
       "dtype: object"
      ]
     },
     "execution_count": 9,
     "metadata": {},
     "output_type": "execute_result"
    }
   ],
   "source": [
    "ebola.dtypes"
   ]
  },
  {
   "cell_type": "code",
   "execution_count": 10,
   "id": "02e2dc74",
   "metadata": {},
   "outputs": [
    {
     "name": "stdout",
     "output_type": "stream",
     "text": [
      "<class 'pandas.core.frame.DataFrame'>\n",
      "RangeIndex: 122 entries, 0 to 121\n",
      "Data columns (total 18 columns):\n",
      " #   Column               Non-Null Count  Dtype         \n",
      "---  ------               --------------  -----         \n",
      " 0   Date                 122 non-null    datetime64[ns]\n",
      " 1   Day                  122 non-null    int64         \n",
      " 2   Cases_Guinea         93 non-null     float64       \n",
      " 3   Cases_Liberia        83 non-null     float64       \n",
      " 4   Cases_SierraLeone    87 non-null     float64       \n",
      " 5   Cases_Nigeria        38 non-null     float64       \n",
      " 6   Cases_Senegal        25 non-null     float64       \n",
      " 7   Cases_UnitedStates   18 non-null     float64       \n",
      " 8   Cases_Spain          16 non-null     float64       \n",
      " 9   Cases_Mali           12 non-null     float64       \n",
      " 10  Deaths_Guinea        92 non-null     float64       \n",
      " 11  Deaths_Liberia       81 non-null     float64       \n",
      " 12  Deaths_SierraLeone   87 non-null     float64       \n",
      " 13  Deaths_Nigeria       38 non-null     float64       \n",
      " 14  Deaths_Senegal       22 non-null     float64       \n",
      " 15  Deaths_UnitedStates  18 non-null     float64       \n",
      " 16  Deaths_Spain         16 non-null     float64       \n",
      " 17  Deaths_Mali          12 non-null     float64       \n",
      "dtypes: datetime64[ns](1), float64(16), int64(1)\n",
      "memory usage: 17.3 KB\n",
      "None\n"
     ]
    }
   ],
   "source": [
    "ebola = pd.read_csv('data/country_timeseries.csv', parse_dates=[0])\n",
    "\n",
    "print(ebola.info())"
   ]
  },
  {
   "cell_type": "code",
   "execution_count": 11,
   "id": "7b3085b8",
   "metadata": {},
   "outputs": [],
   "source": [
    "ebola['date_dt'] = pd.to_datetime(ebola['Date'])"
   ]
  },
  {
   "cell_type": "code",
   "execution_count": 12,
   "id": "2c2519ee",
   "metadata": {},
   "outputs": [
    {
     "name": "stdout",
     "output_type": "stream",
     "text": [
      "        Date  Day outbreak_d\n",
      "0 2015-01-05  289   289 days\n",
      "1 2015-01-04  288   288 days\n",
      "2 2015-01-03  287   287 days\n",
      "3 2015-01-02  286   286 days\n",
      "4 2014-12-31  284   284 days\n"
     ]
    }
   ],
   "source": [
    "ebola['outbreak_d'] = ebola['date_dt'] - ebola['date_dt'].min()\n",
    "\n",
    "\n",
    "print(ebola[['Date', 'Day', 'outbreak_d']].head())"
   ]
  },
  {
   "cell_type": "code",
   "execution_count": 13,
   "id": "ec4e7ff1",
   "metadata": {},
   "outputs": [
    {
     "name": "stdout",
     "output_type": "stream",
     "text": [
      "          Date  Day outbreak_d\n",
      "117 2014-03-27    5     5 days\n",
      "118 2014-03-26    4     4 days\n",
      "119 2014-03-25    3     3 days\n",
      "120 2014-03-24    2     2 days\n",
      "121 2014-03-22    0     0 days\n"
     ]
    }
   ],
   "source": [
    "print(ebola[['Date', 'Day', 'outbreak_d']].tail())"
   ]
  },
  {
   "cell_type": "code",
   "execution_count": 16,
   "id": "d20cad42",
   "metadata": {},
   "outputs": [
    {
     "name": "stdout",
     "output_type": "stream",
     "text": [
      "                                           Bank Name                City  ST  \\\n",
      "0                                Fayette County Bank          Saint Elmo  IL   \n",
      "1  Guaranty Bank, (d/b/a BestBank in Georgia & Mi...           Milwaukee  WI   \n",
      "2                                     First NBC Bank         New Orleans  LA   \n",
      "3                                      Proficio Bank  Cottonwood Heights  UT   \n",
      "4                      Seaway Bank and Trust Company             Chicago  IL   \n",
      "\n",
      "    CERT                Acquiring Institution Closing Date Updated Date  \n",
      "0   1802            United Fidelity Bank, fsb    26-May-17    26-Jul-17  \n",
      "1  30003  First-Citizens Bank & Trust Company     5-May-17    26-Jul-17  \n",
      "2  58302                         Whitney Bank    28-Apr-17    26-Jul-17  \n",
      "3  35495                    Cache Valley Bank     3-Mar-17    18-May-17  \n",
      "4  19328                  State Bank of Texas    27-Jan-17    18-May-17  \n"
     ]
    }
   ],
   "source": [
    "banks = pd.read_csv('data/banklist.csv')\n",
    "\n",
    "print(banks.head())"
   ]
  },
  {
   "cell_type": "code",
   "execution_count": 17,
   "id": "5bef544c",
   "metadata": {},
   "outputs": [
    {
     "data": {
      "text/plain": [
       "Bank Name                object\n",
       "City                     object\n",
       "ST                       object\n",
       "CERT                      int64\n",
       "Acquiring Institution    object\n",
       "Closing Date             object\n",
       "Updated Date             object\n",
       "dtype: object"
      ]
     },
     "execution_count": 17,
     "metadata": {},
     "output_type": "execute_result"
    }
   ],
   "source": [
    "banks.dtypes"
   ]
  },
  {
   "cell_type": "code",
   "execution_count": 19,
   "id": "0b9da403",
   "metadata": {},
   "outputs": [
    {
     "name": "stdout",
     "output_type": "stream",
     "text": [
      "<class 'pandas.core.frame.DataFrame'>\n",
      "RangeIndex: 553 entries, 0 to 552\n",
      "Data columns (total 7 columns):\n",
      " #   Column                 Non-Null Count  Dtype         \n",
      "---  ------                 --------------  -----         \n",
      " 0   Bank Name              553 non-null    object        \n",
      " 1   City                   553 non-null    object        \n",
      " 2   ST                     553 non-null    object        \n",
      " 3   CERT                   553 non-null    int64         \n",
      " 4   Acquiring Institution  553 non-null    object        \n",
      " 5   Closing Date           553 non-null    datetime64[ns]\n",
      " 6   Updated Date           553 non-null    datetime64[ns]\n",
      "dtypes: datetime64[ns](2), int64(1), object(4)\n",
      "memory usage: 30.4+ KB\n",
      "None\n"
     ]
    }
   ],
   "source": [
    "banks = pd.read_csv('data/banklist.csv', parse_dates=[5, 6])\n",
    "\n",
    "print(banks.info())"
   ]
  },
  {
   "cell_type": "code",
   "execution_count": 20,
   "id": "e1309553",
   "metadata": {},
   "outputs": [],
   "source": [
    "banks['closing_quarter'], banks['closing_year'] =(banks['Closing Date'].dt.quarter,banks['Closing Date'].dt.year)"
   ]
  },
  {
   "cell_type": "code",
   "execution_count": 21,
   "id": "b4241ddf",
   "metadata": {},
   "outputs": [
    {
     "data": {
      "text/html": [
       "<div>\n",
       "<style scoped>\n",
       "    .dataframe tbody tr th:only-of-type {\n",
       "        vertical-align: middle;\n",
       "    }\n",
       "\n",
       "    .dataframe tbody tr th {\n",
       "        vertical-align: top;\n",
       "    }\n",
       "\n",
       "    .dataframe thead th {\n",
       "        text-align: right;\n",
       "    }\n",
       "</style>\n",
       "<table border=\"1\" class=\"dataframe\">\n",
       "  <thead>\n",
       "    <tr style=\"text-align: right;\">\n",
       "      <th></th>\n",
       "      <th>Bank Name</th>\n",
       "      <th>City</th>\n",
       "      <th>ST</th>\n",
       "      <th>CERT</th>\n",
       "      <th>Acquiring Institution</th>\n",
       "      <th>Closing Date</th>\n",
       "      <th>Updated Date</th>\n",
       "      <th>closing_quarter</th>\n",
       "      <th>closing_year</th>\n",
       "    </tr>\n",
       "  </thead>\n",
       "  <tbody>\n",
       "    <tr>\n",
       "      <th>0</th>\n",
       "      <td>Fayette County Bank</td>\n",
       "      <td>Saint Elmo</td>\n",
       "      <td>IL</td>\n",
       "      <td>1802</td>\n",
       "      <td>United Fidelity Bank, fsb</td>\n",
       "      <td>2017-05-26</td>\n",
       "      <td>2017-07-26</td>\n",
       "      <td>2</td>\n",
       "      <td>2017</td>\n",
       "    </tr>\n",
       "    <tr>\n",
       "      <th>1</th>\n",
       "      <td>Guaranty Bank, (d/b/a BestBank in Georgia &amp; Mi...</td>\n",
       "      <td>Milwaukee</td>\n",
       "      <td>WI</td>\n",
       "      <td>30003</td>\n",
       "      <td>First-Citizens Bank &amp; Trust Company</td>\n",
       "      <td>2017-05-05</td>\n",
       "      <td>2017-07-26</td>\n",
       "      <td>2</td>\n",
       "      <td>2017</td>\n",
       "    </tr>\n",
       "    <tr>\n",
       "      <th>2</th>\n",
       "      <td>First NBC Bank</td>\n",
       "      <td>New Orleans</td>\n",
       "      <td>LA</td>\n",
       "      <td>58302</td>\n",
       "      <td>Whitney Bank</td>\n",
       "      <td>2017-04-28</td>\n",
       "      <td>2017-07-26</td>\n",
       "      <td>2</td>\n",
       "      <td>2017</td>\n",
       "    </tr>\n",
       "    <tr>\n",
       "      <th>3</th>\n",
       "      <td>Proficio Bank</td>\n",
       "      <td>Cottonwood Heights</td>\n",
       "      <td>UT</td>\n",
       "      <td>35495</td>\n",
       "      <td>Cache Valley Bank</td>\n",
       "      <td>2017-03-03</td>\n",
       "      <td>2017-05-18</td>\n",
       "      <td>1</td>\n",
       "      <td>2017</td>\n",
       "    </tr>\n",
       "    <tr>\n",
       "      <th>4</th>\n",
       "      <td>Seaway Bank and Trust Company</td>\n",
       "      <td>Chicago</td>\n",
       "      <td>IL</td>\n",
       "      <td>19328</td>\n",
       "      <td>State Bank of Texas</td>\n",
       "      <td>2017-01-27</td>\n",
       "      <td>2017-05-18</td>\n",
       "      <td>1</td>\n",
       "      <td>2017</td>\n",
       "    </tr>\n",
       "  </tbody>\n",
       "</table>\n",
       "</div>"
      ],
      "text/plain": [
       "                                           Bank Name                City  ST  \\\n",
       "0                                Fayette County Bank          Saint Elmo  IL   \n",
       "1  Guaranty Bank, (d/b/a BestBank in Georgia & Mi...           Milwaukee  WI   \n",
       "2                                     First NBC Bank         New Orleans  LA   \n",
       "3                                      Proficio Bank  Cottonwood Heights  UT   \n",
       "4                      Seaway Bank and Trust Company             Chicago  IL   \n",
       "\n",
       "    CERT                Acquiring Institution Closing Date Updated Date  \\\n",
       "0   1802            United Fidelity Bank, fsb   2017-05-26   2017-07-26   \n",
       "1  30003  First-Citizens Bank & Trust Company   2017-05-05   2017-07-26   \n",
       "2  58302                         Whitney Bank   2017-04-28   2017-07-26   \n",
       "3  35495                    Cache Valley Bank   2017-03-03   2017-05-18   \n",
       "4  19328                  State Bank of Texas   2017-01-27   2017-05-18   \n",
       "\n",
       "   closing_quarter  closing_year  \n",
       "0                2          2017  \n",
       "1                2          2017  \n",
       "2                2          2017  \n",
       "3                1          2017  \n",
       "4                1          2017  "
      ]
     },
     "execution_count": 21,
     "metadata": {},
     "output_type": "execute_result"
    }
   ],
   "source": [
    "banks.head()"
   ]
  },
  {
   "cell_type": "code",
   "execution_count": 22,
   "id": "ee5c34ee",
   "metadata": {},
   "outputs": [],
   "source": [
    "closing_year = banks.groupby(['closing_year']).size()"
   ]
  },
  {
   "cell_type": "code",
   "execution_count": 23,
   "id": "a2483c39",
   "metadata": {},
   "outputs": [
    {
     "data": {
      "text/plain": [
       "closing_year\n",
       "2000      2\n",
       "2001      4\n",
       "2002     11\n",
       "2003      3\n",
       "2004      4\n",
       "2007      3\n",
       "2008     25\n",
       "2009    140\n",
       "2010    157\n",
       "2011     92\n",
       "2012     51\n",
       "2013     24\n",
       "2014     18\n",
       "2015      8\n",
       "2016      5\n",
       "2017      6\n",
       "dtype: int64"
      ]
     },
     "execution_count": 23,
     "metadata": {},
     "output_type": "execute_result"
    }
   ],
   "source": [
    "closing_year"
   ]
  },
  {
   "cell_type": "code",
   "execution_count": 24,
   "id": "e37a411c",
   "metadata": {},
   "outputs": [],
   "source": [
    "closing_year_q = banks.groupby(['closing_year', 'closing_quarter']).size()"
   ]
  },
  {
   "cell_type": "code",
   "execution_count": 25,
   "id": "10e7a3d2",
   "metadata": {
    "scrolled": true
   },
   "outputs": [
    {
     "data": {
      "text/plain": [
       "closing_year  closing_quarter\n",
       "2000          4                   2\n",
       "2001          1                   1\n",
       "              2                   1\n",
       "              3                   2\n",
       "2002          1                   6\n",
       "              2                   2\n",
       "              3                   1\n",
       "              4                   2\n",
       "2003          1                   1\n",
       "              2                   1\n",
       "              4                   1\n",
       "2004          1                   3\n",
       "              2                   1\n",
       "2007          1                   1\n",
       "              3                   1\n",
       "              4                   1\n",
       "2008          1                   2\n",
       "              2                   2\n",
       "              3                   9\n",
       "              4                  12\n",
       "2009          1                  21\n",
       "              2                  24\n",
       "              3                  50\n",
       "              4                  45\n",
       "2010          1                  41\n",
       "              2                  45\n",
       "              3                  41\n",
       "              4                  30\n",
       "2011          1                  26\n",
       "              2                  22\n",
       "              3                  26\n",
       "              4                  18\n",
       "2012          1                  16\n",
       "              2                  15\n",
       "              3                  12\n",
       "              4                   8\n",
       "2013          1                   4\n",
       "              2                  12\n",
       "              3                   6\n",
       "              4                   2\n",
       "2014          1                   5\n",
       "              2                   7\n",
       "              3                   2\n",
       "              4                   4\n",
       "2015          1                   4\n",
       "              2                   1\n",
       "              3                   1\n",
       "              4                   2\n",
       "2016          1                   1\n",
       "              2                   2\n",
       "              3                   2\n",
       "2017          1                   3\n",
       "              2                   3\n",
       "dtype: int64"
      ]
     },
     "execution_count": 25,
     "metadata": {},
     "output_type": "execute_result"
    }
   ],
   "source": [
    "closing_year_q"
   ]
  },
  {
   "cell_type": "code",
   "execution_count": 30,
   "id": "c66c13d3",
   "metadata": {},
   "outputs": [
    {
     "data": {
      "image/png": "[encoded data removed]",
      "text/plain": [
       "<Figure size 432x288 with 1 Axes>"
      ]
     },
     "metadata": {
      "needs_background": "light"
     },
     "output_type": "display_data"
    }
   ],
   "source": [
    "import matplotlib.pyplot as plt\n",
    "\n",
    "\n",
    "fig, ax = plt.subplots()\n",
    "\n",
    "ax = closing_year.plot()\n",
    "\n",
    "# ax = closing_year_q.plot()\n",
    "\n",
    "plt.show()"
   ]
  },
  {
   "cell_type": "code",
   "execution_count": 31,
   "id": "21ba8090",
   "metadata": {},
   "outputs": [
    {
     "data": {
      "image/png": "[encoded data removed]",
      "text/plain": [
       "<Figure size 432x288 with 1 Axes>"
      ]
     },
     "metadata": {
      "needs_background": "light"
     },
     "output_type": "display_data"
    }
   ],
   "source": [
    "fig, ax = plt.subplots()\n",
    "\n",
    "ax = closing_year_q.plot()\n",
    "\n",
    "plt.show()"
   ]
  },
  {
   "cell_type": "code",
   "execution_count": 34,
   "id": "3f53445d",
   "metadata": {},
   "outputs": [],
   "source": [
    "import pandas_datareader as pdr\n",
    "tesla = pdr.get_data_yahoo('TSLA')\n",
    "tesla = pd.read_csv('data/tesla_stock_yahoo.csv', parse_dates=[0])"
   ]
  },
  {
   "cell_type": "code",
   "execution_count": 35,
   "id": "9275a199",
   "metadata": {},
   "outputs": [
    {
     "data": {
      "text/html": [
       "<div>\n",
       "<style scoped>\n",
       "    .dataframe tbody tr th:only-of-type {\n",
       "        vertical-align: middle;\n",
       "    }\n",
       "\n",
       "    .dataframe tbody tr th {\n",
       "        vertical-align: top;\n",
       "    }\n",
       "\n",
       "    .dataframe thead th {\n",
       "        text-align: right;\n",
       "    }\n",
       "</style>\n",
       "<table border=\"1\" class=\"dataframe\">\n",
       "  <thead>\n",
       "    <tr style=\"text-align: right;\">\n",
       "      <th></th>\n",
       "      <th>Date</th>\n",
       "      <th>Open</th>\n",
       "      <th>High</th>\n",
       "      <th>Low</th>\n",
       "      <th>Close</th>\n",
       "      <th>Adj Close</th>\n",
       "      <th>Volume</th>\n",
       "    </tr>\n",
       "  </thead>\n",
       "  <tbody>\n",
       "    <tr>\n",
       "      <th>0</th>\n",
       "      <td>2010-06-29</td>\n",
       "      <td>19.000000</td>\n",
       "      <td>25.000000</td>\n",
       "      <td>17.540001</td>\n",
       "      <td>23.889999</td>\n",
       "      <td>23.889999</td>\n",
       "      <td>18766300</td>\n",
       "    </tr>\n",
       "    <tr>\n",
       "      <th>1</th>\n",
       "      <td>2010-06-30</td>\n",
       "      <td>25.790001</td>\n",
       "      <td>30.420000</td>\n",
       "      <td>23.299999</td>\n",
       "      <td>23.830000</td>\n",
       "      <td>23.830000</td>\n",
       "      <td>17187100</td>\n",
       "    </tr>\n",
       "    <tr>\n",
       "      <th>2</th>\n",
       "      <td>2010-07-01</td>\n",
       "      <td>25.000000</td>\n",
       "      <td>25.920000</td>\n",
       "      <td>20.270000</td>\n",
       "      <td>21.959999</td>\n",
       "      <td>21.959999</td>\n",
       "      <td>8218800</td>\n",
       "    </tr>\n",
       "    <tr>\n",
       "      <th>3</th>\n",
       "      <td>2010-07-02</td>\n",
       "      <td>23.000000</td>\n",
       "      <td>23.100000</td>\n",
       "      <td>18.709999</td>\n",
       "      <td>19.200001</td>\n",
       "      <td>19.200001</td>\n",
       "      <td>5139800</td>\n",
       "    </tr>\n",
       "    <tr>\n",
       "      <th>4</th>\n",
       "      <td>2010-07-06</td>\n",
       "      <td>20.000000</td>\n",
       "      <td>20.000000</td>\n",
       "      <td>15.830000</td>\n",
       "      <td>16.110001</td>\n",
       "      <td>16.110001</td>\n",
       "      <td>6866900</td>\n",
       "    </tr>\n",
       "    <tr>\n",
       "      <th>...</th>\n",
       "      <td>...</td>\n",
       "      <td>...</td>\n",
       "      <td>...</td>\n",
       "      <td>...</td>\n",
       "      <td>...</td>\n",
       "      <td>...</td>\n",
       "      <td>...</td>\n",
       "    </tr>\n",
       "    <tr>\n",
       "      <th>1786</th>\n",
       "      <td>2017-08-02</td>\n",
       "      <td>318.940002</td>\n",
       "      <td>327.119995</td>\n",
       "      <td>311.220001</td>\n",
       "      <td>325.890015</td>\n",
       "      <td>325.890015</td>\n",
       "      <td>13091500</td>\n",
       "    </tr>\n",
       "    <tr>\n",
       "      <th>1787</th>\n",
       "      <td>2017-08-03</td>\n",
       "      <td>345.329987</td>\n",
       "      <td>350.000000</td>\n",
       "      <td>343.149994</td>\n",
       "      <td>347.089996</td>\n",
       "      <td>347.089996</td>\n",
       "      <td>13535000</td>\n",
       "    </tr>\n",
       "    <tr>\n",
       "      <th>1788</th>\n",
       "      <td>2017-08-04</td>\n",
       "      <td>347.000000</td>\n",
       "      <td>357.269989</td>\n",
       "      <td>343.299988</td>\n",
       "      <td>356.910004</td>\n",
       "      <td>356.910004</td>\n",
       "      <td>9198400</td>\n",
       "    </tr>\n",
       "    <tr>\n",
       "      <th>1789</th>\n",
       "      <td>2017-08-07</td>\n",
       "      <td>357.350006</td>\n",
       "      <td>359.480011</td>\n",
       "      <td>352.750000</td>\n",
       "      <td>355.170013</td>\n",
       "      <td>355.170013</td>\n",
       "      <td>6276900</td>\n",
       "    </tr>\n",
       "    <tr>\n",
       "      <th>1790</th>\n",
       "      <td>2017-08-08</td>\n",
       "      <td>357.529999</td>\n",
       "      <td>368.579987</td>\n",
       "      <td>357.399994</td>\n",
       "      <td>365.220001</td>\n",
       "      <td>365.220001</td>\n",
       "      <td>7449837</td>\n",
       "    </tr>\n",
       "  </tbody>\n",
       "</table>\n",
       "<p>1791 rows × 7 columns</p>\n",
       "</div>"
      ],
      "text/plain": [
       "           Date        Open        High         Low       Close   Adj Close  \\\n",
       "0    2010-06-29   19.000000   25.000000   17.540001   23.889999   23.889999   \n",
       "1    2010-06-30   25.790001   30.420000   23.299999   23.830000   23.830000   \n",
       "2    2010-07-01   25.000000   25.920000   20.270000   21.959999   21.959999   \n",
       "3    2010-07-02   23.000000   23.100000   18.709999   19.200001   19.200001   \n",
       "4    2010-07-06   20.000000   20.000000   15.830000   16.110001   16.110001   \n",
       "...         ...         ...         ...         ...         ...         ...   \n",
       "1786 2017-08-02  318.940002  327.119995  311.220001  325.890015  325.890015   \n",
       "1787 2017-08-03  345.329987  350.000000  343.149994  347.089996  347.089996   \n",
       "1788 2017-08-04  347.000000  357.269989  343.299988  356.910004  356.910004   \n",
       "1789 2017-08-07  357.350006  359.480011  352.750000  355.170013  355.170013   \n",
       "1790 2017-08-08  357.529999  368.579987  357.399994  365.220001  365.220001   \n",
       "\n",
       "        Volume  \n",
       "0     18766300  \n",
       "1     17187100  \n",
       "2      8218800  \n",
       "3      5139800  \n",
       "4      6866900  \n",
       "...        ...  \n",
       "1786  13091500  \n",
       "1787  13535000  \n",
       "1788   9198400  \n",
       "1789   6276900  \n",
       "1790   7449837  \n",
       "\n",
       "[1791 rows x 7 columns]"
      ]
     },
     "execution_count": 35,
     "metadata": {},
     "output_type": "execute_result"
    }
   ],
   "source": [
    "tesla"
   ]
  },
  {
   "cell_type": "code",
   "execution_count": 36,
   "id": "93c8b670",
   "metadata": {},
   "outputs": [
    {
     "name": "stdout",
     "output_type": "stream",
     "text": [
      "        Date       Open   High        Low      Close  Adj Close    Volume\n",
      "0 2010-06-29  19.000000  25.00  17.540001  23.889999  23.889999  18766300\n",
      "1 2010-06-30  25.790001  30.42  23.299999  23.830000  23.830000  17187100\n"
     ]
    }
   ],
   "source": [
    "print(tesla.loc[(tesla.Date.dt.year == 2010) & (tesla.Date.dt.month == 6)])"
   ]
  },
  {
   "cell_type": "code",
   "execution_count": 37,
   "id": "08f13cff",
   "metadata": {},
   "outputs": [
    {
     "name": "stdout",
     "output_type": "stream",
     "text": [
      "DatetimeIndex(['2010-06-29', '2010-06-30', '2010-07-01', '2010-07-02',\n",
      "               '2010-07-06', '2010-07-07', '2010-07-08', '2010-07-09',\n",
      "               '2010-07-12', '2010-07-13',\n",
      "               ...\n",
      "               '2017-07-26', '2017-07-27', '2017-07-28', '2017-07-31',\n",
      "               '2017-08-01', '2017-08-02', '2017-08-03', '2017-08-04',\n",
      "               '2017-08-07', '2017-08-08'],\n",
      "              dtype='datetime64[ns]', name='Date', length=1791, freq=None)\n"
     ]
    }
   ],
   "source": [
    "tesla.index = tesla['Date']\n",
    "\n",
    "print(tesla.index)"
   ]
  },
  {
   "cell_type": "code",
   "execution_count": 39,
   "id": "08bf10f8",
   "metadata": {},
   "outputs": [
    {
     "data": {
      "text/html": [
       "<div>\n",
       "<style scoped>\n",
       "    .dataframe tbody tr th:only-of-type {\n",
       "        vertical-align: middle;\n",
       "    }\n",
       "\n",
       "    .dataframe tbody tr th {\n",
       "        vertical-align: top;\n",
       "    }\n",
       "\n",
       "    .dataframe thead th {\n",
       "        text-align: right;\n",
       "    }\n",
       "</style>\n",
       "<table border=\"1\" class=\"dataframe\">\n",
       "  <thead>\n",
       "    <tr style=\"text-align: right;\">\n",
       "      <th></th>\n",
       "      <th>Date</th>\n",
       "      <th>Open</th>\n",
       "      <th>High</th>\n",
       "      <th>Low</th>\n",
       "      <th>Close</th>\n",
       "      <th>Adj Close</th>\n",
       "      <th>Volume</th>\n",
       "    </tr>\n",
       "    <tr>\n",
       "      <th>Date</th>\n",
       "      <th></th>\n",
       "      <th></th>\n",
       "      <th></th>\n",
       "      <th></th>\n",
       "      <th></th>\n",
       "      <th></th>\n",
       "      <th></th>\n",
       "    </tr>\n",
       "  </thead>\n",
       "  <tbody>\n",
       "    <tr>\n",
       "      <th>2010-06-29</th>\n",
       "      <td>2010-06-29</td>\n",
       "      <td>19.000000</td>\n",
       "      <td>25.000000</td>\n",
       "      <td>17.540001</td>\n",
       "      <td>23.889999</td>\n",
       "      <td>23.889999</td>\n",
       "      <td>18766300</td>\n",
       "    </tr>\n",
       "    <tr>\n",
       "      <th>2010-06-30</th>\n",
       "      <td>2010-06-30</td>\n",
       "      <td>25.790001</td>\n",
       "      <td>30.420000</td>\n",
       "      <td>23.299999</td>\n",
       "      <td>23.830000</td>\n",
       "      <td>23.830000</td>\n",
       "      <td>17187100</td>\n",
       "    </tr>\n",
       "    <tr>\n",
       "      <th>2010-07-01</th>\n",
       "      <td>2010-07-01</td>\n",
       "      <td>25.000000</td>\n",
       "      <td>25.920000</td>\n",
       "      <td>20.270000</td>\n",
       "      <td>21.959999</td>\n",
       "      <td>21.959999</td>\n",
       "      <td>8218800</td>\n",
       "    </tr>\n",
       "    <tr>\n",
       "      <th>2010-07-02</th>\n",
       "      <td>2010-07-02</td>\n",
       "      <td>23.000000</td>\n",
       "      <td>23.100000</td>\n",
       "      <td>18.709999</td>\n",
       "      <td>19.200001</td>\n",
       "      <td>19.200001</td>\n",
       "      <td>5139800</td>\n",
       "    </tr>\n",
       "    <tr>\n",
       "      <th>2010-07-06</th>\n",
       "      <td>2010-07-06</td>\n",
       "      <td>20.000000</td>\n",
       "      <td>20.000000</td>\n",
       "      <td>15.830000</td>\n",
       "      <td>16.110001</td>\n",
       "      <td>16.110001</td>\n",
       "      <td>6866900</td>\n",
       "    </tr>\n",
       "    <tr>\n",
       "      <th>...</th>\n",
       "      <td>...</td>\n",
       "      <td>...</td>\n",
       "      <td>...</td>\n",
       "      <td>...</td>\n",
       "      <td>...</td>\n",
       "      <td>...</td>\n",
       "      <td>...</td>\n",
       "    </tr>\n",
       "    <tr>\n",
       "      <th>2017-08-02</th>\n",
       "      <td>2017-08-02</td>\n",
       "      <td>318.940002</td>\n",
       "      <td>327.119995</td>\n",
       "      <td>311.220001</td>\n",
       "      <td>325.890015</td>\n",
       "      <td>325.890015</td>\n",
       "      <td>13091500</td>\n",
       "    </tr>\n",
       "    <tr>\n",
       "      <th>2017-08-03</th>\n",
       "      <td>2017-08-03</td>\n",
       "      <td>345.329987</td>\n",
       "      <td>350.000000</td>\n",
       "      <td>343.149994</td>\n",
       "      <td>347.089996</td>\n",
       "      <td>347.089996</td>\n",
       "      <td>13535000</td>\n",
       "    </tr>\n",
       "    <tr>\n",
       "      <th>2017-08-04</th>\n",
       "      <td>2017-08-04</td>\n",
       "      <td>347.000000</td>\n",
       "      <td>357.269989</td>\n",
       "      <td>343.299988</td>\n",
       "      <td>356.910004</td>\n",
       "      <td>356.910004</td>\n",
       "      <td>9198400</td>\n",
       "    </tr>\n",
       "    <tr>\n",
       "      <th>2017-08-07</th>\n",
       "      <td>2017-08-07</td>\n",
       "      <td>357.350006</td>\n",
       "      <td>359.480011</td>\n",
       "      <td>352.750000</td>\n",
       "      <td>355.170013</td>\n",
       "      <td>355.170013</td>\n",
       "      <td>6276900</td>\n",
       "    </tr>\n",
       "    <tr>\n",
       "      <th>2017-08-08</th>\n",
       "      <td>2017-08-08</td>\n",
       "      <td>357.529999</td>\n",
       "      <td>368.579987</td>\n",
       "      <td>357.399994</td>\n",
       "      <td>365.220001</td>\n",
       "      <td>365.220001</td>\n",
       "      <td>7449837</td>\n",
       "    </tr>\n",
       "  </tbody>\n",
       "</table>\n",
       "<p>1791 rows × 7 columns</p>\n",
       "</div>"
      ],
      "text/plain": [
       "                 Date        Open        High         Low       Close  \\\n",
       "Date                                                                    \n",
       "2010-06-29 2010-06-29   19.000000   25.000000   17.540001   23.889999   \n",
       "2010-06-30 2010-06-30   25.790001   30.420000   23.299999   23.830000   \n",
       "2010-07-01 2010-07-01   25.000000   25.920000   20.270000   21.959999   \n",
       "2010-07-02 2010-07-02   23.000000   23.100000   18.709999   19.200001   \n",
       "2010-07-06 2010-07-06   20.000000   20.000000   15.830000   16.110001   \n",
       "...               ...         ...         ...         ...         ...   \n",
       "2017-08-02 2017-08-02  318.940002  327.119995  311.220001  325.890015   \n",
       "2017-08-03 2017-08-03  345.329987  350.000000  343.149994  347.089996   \n",
       "2017-08-04 2017-08-04  347.000000  357.269989  343.299988  356.910004   \n",
       "2017-08-07 2017-08-07  357.350006  359.480011  352.750000  355.170013   \n",
       "2017-08-08 2017-08-08  357.529999  368.579987  357.399994  365.220001   \n",
       "\n",
       "             Adj Close    Volume  \n",
       "Date                              \n",
       "2010-06-29   23.889999  18766300  \n",
       "2010-06-30   23.830000  17187100  \n",
       "2010-07-01   21.959999   8218800  \n",
       "2010-07-02   19.200001   5139800  \n",
       "2010-07-06   16.110001   6866900  \n",
       "...                ...       ...  \n",
       "2017-08-02  325.890015  13091500  \n",
       "2017-08-03  347.089996  13535000  \n",
       "2017-08-04  356.910004   9198400  \n",
       "2017-08-07  355.170013   6276900  \n",
       "2017-08-08  365.220001   7449837  \n",
       "\n",
       "[1791 rows x 7 columns]"
      ]
     },
     "execution_count": 39,
     "metadata": {},
     "output_type": "execute_result"
    }
   ],
   "source": [
    "tesla"
   ]
  },
  {
   "cell_type": "code",
   "execution_count": 49,
   "id": "f7293adf",
   "metadata": {},
   "outputs": [
    {
     "name": "stdout",
     "output_type": "stream",
     "text": [
      "                 Date        Open        High         Low       Close\n",
      "Date                                                                 \n",
      "2015-01-02 2015-01-02  222.869995  223.250000  213.259995  219.309998\n",
      "2015-01-05 2015-01-05  214.550003  216.500000  207.160004  210.089996\n",
      "2015-01-06 2015-01-06  210.059998  214.199997  204.210007  211.279999\n",
      "2015-01-07 2015-01-07  213.350006  214.779999  209.779999  210.949997\n",
      "2015-01-08 2015-01-08  212.809998  213.800003  210.009995  210.619995\n"
     ]
    },
    {
     "name": "stderr",
     "output_type": "stream",
     "text": [
      "/var/folders/7b/2yrw0wyj5hjgm886sm7nc38r0000gn/T/ipykernel_1309/4283245189.py:1: FutureWarning: Indexing a DataFrame with a datetimelike index using a single string to slice the rows, like `frame[string]`, is deprecated and will be removed in a future version. Use `frame.loc[string]` instead.\n",
      "  print(tesla['2015'].iloc[:5, :5])\n"
     ]
    }
   ],
   "source": [
    "print(tesla['2015'].iloc[:5, :5])"
   ]
  },
  {
   "cell_type": "code",
   "execution_count": 54,
   "id": "df5abb94",
   "metadata": {},
   "outputs": [
    {
     "name": "stdout",
     "output_type": "stream",
     "text": [
      "                 Date       Open   High        Low      Close\n",
      "Date                                                         \n",
      "2010-06-29 2010-06-29  19.000000  25.00  17.540001  23.889999\n",
      "2010-06-30 2010-06-30  25.790001  30.42  23.299999  23.830000\n"
     ]
    },
    {
     "name": "stderr",
     "output_type": "stream",
     "text": [
      "/var/folders/7b/2yrw0wyj5hjgm886sm7nc38r0000gn/T/ipykernel_1309/3669736055.py:1: FutureWarning: Indexing a DataFrame with a datetimelike index using a single string to slice the rows, like `frame[string]`, is deprecated and will be removed in a future version. Use `frame.loc[string]` instead.\n",
      "  print(tesla['2010-06'].iloc[:, :5])\n"
     ]
    }
   ],
   "source": [
    "print(tesla['2010-06'].iloc[:, :5])"
   ]
  },
  {
   "cell_type": "code",
   "execution_count": 55,
   "id": "06a23a98",
   "metadata": {},
   "outputs": [],
   "source": [
    "tesla['ref_date'] = tesla['Date'] - tesla['Date'].min()"
   ]
  },
  {
   "cell_type": "code",
   "execution_count": 56,
   "id": "70289d7e",
   "metadata": {},
   "outputs": [
    {
     "data": {
      "text/html": [
       "<div>\n",
       "<style scoped>\n",
       "    .dataframe tbody tr th:only-of-type {\n",
       "        vertical-align: middle;\n",
       "    }\n",
       "\n",
       "    .dataframe tbody tr th {\n",
       "        vertical-align: top;\n",
       "    }\n",
       "\n",
       "    .dataframe thead th {\n",
       "        text-align: right;\n",
       "    }\n",
       "</style>\n",
       "<table border=\"1\" class=\"dataframe\">\n",
       "  <thead>\n",
       "    <tr style=\"text-align: right;\">\n",
       "      <th></th>\n",
       "      <th>Date</th>\n",
       "      <th>Open</th>\n",
       "      <th>High</th>\n",
       "      <th>Low</th>\n",
       "      <th>Close</th>\n",
       "      <th>Adj Close</th>\n",
       "      <th>Volume</th>\n",
       "      <th>ref_date</th>\n",
       "    </tr>\n",
       "    <tr>\n",
       "      <th>Date</th>\n",
       "      <th></th>\n",
       "      <th></th>\n",
       "      <th></th>\n",
       "      <th></th>\n",
       "      <th></th>\n",
       "      <th></th>\n",
       "      <th></th>\n",
       "      <th></th>\n",
       "    </tr>\n",
       "  </thead>\n",
       "  <tbody>\n",
       "    <tr>\n",
       "      <th>2010-06-29</th>\n",
       "      <td>2010-06-29</td>\n",
       "      <td>19.000000</td>\n",
       "      <td>25.00</td>\n",
       "      <td>17.540001</td>\n",
       "      <td>23.889999</td>\n",
       "      <td>23.889999</td>\n",
       "      <td>18766300</td>\n",
       "      <td>0 days</td>\n",
       "    </tr>\n",
       "    <tr>\n",
       "      <th>2010-06-30</th>\n",
       "      <td>2010-06-30</td>\n",
       "      <td>25.790001</td>\n",
       "      <td>30.42</td>\n",
       "      <td>23.299999</td>\n",
       "      <td>23.830000</td>\n",
       "      <td>23.830000</td>\n",
       "      <td>17187100</td>\n",
       "      <td>1 days</td>\n",
       "    </tr>\n",
       "    <tr>\n",
       "      <th>2010-07-01</th>\n",
       "      <td>2010-07-01</td>\n",
       "      <td>25.000000</td>\n",
       "      <td>25.92</td>\n",
       "      <td>20.270000</td>\n",
       "      <td>21.959999</td>\n",
       "      <td>21.959999</td>\n",
       "      <td>8218800</td>\n",
       "      <td>2 days</td>\n",
       "    </tr>\n",
       "    <tr>\n",
       "      <th>2010-07-02</th>\n",
       "      <td>2010-07-02</td>\n",
       "      <td>23.000000</td>\n",
       "      <td>23.10</td>\n",
       "      <td>18.709999</td>\n",
       "      <td>19.200001</td>\n",
       "      <td>19.200001</td>\n",
       "      <td>5139800</td>\n",
       "      <td>3 days</td>\n",
       "    </tr>\n",
       "    <tr>\n",
       "      <th>2010-07-06</th>\n",
       "      <td>2010-07-06</td>\n",
       "      <td>20.000000</td>\n",
       "      <td>20.00</td>\n",
       "      <td>15.830000</td>\n",
       "      <td>16.110001</td>\n",
       "      <td>16.110001</td>\n",
       "      <td>6866900</td>\n",
       "      <td>7 days</td>\n",
       "    </tr>\n",
       "  </tbody>\n",
       "</table>\n",
       "</div>"
      ],
      "text/plain": [
       "                 Date       Open   High        Low      Close  Adj Close  \\\n",
       "Date                                                                       \n",
       "2010-06-29 2010-06-29  19.000000  25.00  17.540001  23.889999  23.889999   \n",
       "2010-06-30 2010-06-30  25.790001  30.42  23.299999  23.830000  23.830000   \n",
       "2010-07-01 2010-07-01  25.000000  25.92  20.270000  21.959999  21.959999   \n",
       "2010-07-02 2010-07-02  23.000000  23.10  18.709999  19.200001  19.200001   \n",
       "2010-07-06 2010-07-06  20.000000  20.00  15.830000  16.110001  16.110001   \n",
       "\n",
       "              Volume ref_date  \n",
       "Date                           \n",
       "2010-06-29  18766300   0 days  \n",
       "2010-06-30  17187100   1 days  \n",
       "2010-07-01   8218800   2 days  \n",
       "2010-07-02   5139800   3 days  \n",
       "2010-07-06   6866900   7 days  "
      ]
     },
     "execution_count": 56,
     "metadata": {},
     "output_type": "execute_result"
    }
   ],
   "source": [
    "tesla.head()"
   ]
  },
  {
   "cell_type": "code",
   "execution_count": 60,
   "id": "70286abb",
   "metadata": {},
   "outputs": [
    {
     "name": "stdout",
     "output_type": "stream",
     "text": [
      "        Date  Day  Cases_Guinea  Cases_Liberia  Cases_SierraLeone\n",
      "0 2015-01-05  289        2776.0            NaN            10030.0\n",
      "1 2015-01-04  288        2775.0            NaN             9780.0\n",
      "2 2015-01-03  287        2769.0         8166.0             9722.0\n",
      "3 2015-01-02  286           NaN         8157.0                NaN\n",
      "4 2014-12-31  284        2730.0         8115.0             9633.0\n"
     ]
    }
   ],
   "source": [
    "ebola = pd.read_csv('data/country_timeseries.csv',parse_dates=[0])\n",
    "\n",
    "print(ebola.iloc[:5,:5])"
   ]
  },
  {
   "cell_type": "code",
   "execution_count": 61,
   "id": "841cb538",
   "metadata": {},
   "outputs": [
    {
     "name": "stdout",
     "output_type": "stream",
     "text": [
      "          Date  Day  Cases_Guinea  Cases_Liberia  Cases_SierraLeone\n",
      "117 2014-03-27    5         103.0            8.0                6.0\n",
      "118 2014-03-26    4          86.0            NaN                NaN\n",
      "119 2014-03-25    3          86.0            NaN                NaN\n",
      "120 2014-03-24    2          86.0            NaN                NaN\n",
      "121 2014-03-22    0          49.0            NaN                NaN\n"
     ]
    }
   ],
   "source": [
    "\n",
    "print(ebola.iloc[-5:,:5])"
   ]
  },
  {
   "cell_type": "code",
   "execution_count": 63,
   "id": "0f7a3f2b",
   "metadata": {},
   "outputs": [
    {
     "name": "stdout",
     "output_type": "stream",
     "text": [
      "DatetimeIndex(['2014-12-31', '2015-01-01', '2015-01-02', '2015-01-03',\n",
      "               '2015-01-04', '2015-01-05'],\n",
      "              dtype='datetime64[ns]', freq='D')\n"
     ]
    }
   ],
   "source": [
    "head_range = pd.date_range(start='2014-12-31', end='2015-01-05')\n",
    "\n",
    "print(head_range)"
   ]
  },
  {
   "cell_type": "code",
   "execution_count": 64,
   "id": "1a7d4f2c",
   "metadata": {},
   "outputs": [],
   "source": [
    "ebola_5 = ebola.head()"
   ]
  },
  {
   "cell_type": "code",
   "execution_count": 65,
   "id": "836ddaf5",
   "metadata": {},
   "outputs": [],
   "source": [
    "ebola_5.index = ebola_5['Date']"
   ]
  },
  {
   "cell_type": "code",
   "execution_count": 66,
   "id": "285166e3",
   "metadata": {},
   "outputs": [
    {
     "data": {
      "text/html": [
       "<div>\n",
       "<style scoped>\n",
       "    .dataframe tbody tr th:only-of-type {\n",
       "        vertical-align: middle;\n",
       "    }\n",
       "\n",
       "    .dataframe tbody tr th {\n",
       "        vertical-align: top;\n",
       "    }\n",
       "\n",
       "    .dataframe thead th {\n",
       "        text-align: right;\n",
       "    }\n",
       "</style>\n",
       "<table border=\"1\" class=\"dataframe\">\n",
       "  <thead>\n",
       "    <tr style=\"text-align: right;\">\n",
       "      <th></th>\n",
       "      <th>Date</th>\n",
       "      <th>Day</th>\n",
       "      <th>Cases_Guinea</th>\n",
       "      <th>Cases_Liberia</th>\n",
       "      <th>Cases_SierraLeone</th>\n",
       "      <th>Cases_Nigeria</th>\n",
       "      <th>Cases_Senegal</th>\n",
       "      <th>Cases_UnitedStates</th>\n",
       "      <th>Cases_Spain</th>\n",
       "      <th>Cases_Mali</th>\n",
       "      <th>Deaths_Guinea</th>\n",
       "      <th>Deaths_Liberia</th>\n",
       "      <th>Deaths_SierraLeone</th>\n",
       "      <th>Deaths_Nigeria</th>\n",
       "      <th>Deaths_Senegal</th>\n",
       "      <th>Deaths_UnitedStates</th>\n",
       "      <th>Deaths_Spain</th>\n",
       "      <th>Deaths_Mali</th>\n",
       "    </tr>\n",
       "  </thead>\n",
       "  <tbody>\n",
       "    <tr>\n",
       "      <th>2014-12-31</th>\n",
       "      <td>2014-12-31</td>\n",
       "      <td>284.0</td>\n",
       "      <td>2730.0</td>\n",
       "      <td>8115.0</td>\n",
       "      <td>9633.0</td>\n",
       "      <td>NaN</td>\n",
       "      <td>NaN</td>\n",
       "      <td>NaN</td>\n",
       "      <td>NaN</td>\n",
       "      <td>NaN</td>\n",
       "      <td>1739.0</td>\n",
       "      <td>3471.0</td>\n",
       "      <td>2827.0</td>\n",
       "      <td>NaN</td>\n",
       "      <td>NaN</td>\n",
       "      <td>NaN</td>\n",
       "      <td>NaN</td>\n",
       "      <td>NaN</td>\n",
       "    </tr>\n",
       "    <tr>\n",
       "      <th>2015-01-01</th>\n",
       "      <td>NaT</td>\n",
       "      <td>NaN</td>\n",
       "      <td>NaN</td>\n",
       "      <td>NaN</td>\n",
       "      <td>NaN</td>\n",
       "      <td>NaN</td>\n",
       "      <td>NaN</td>\n",
       "      <td>NaN</td>\n",
       "      <td>NaN</td>\n",
       "      <td>NaN</td>\n",
       "      <td>NaN</td>\n",
       "      <td>NaN</td>\n",
       "      <td>NaN</td>\n",
       "      <td>NaN</td>\n",
       "      <td>NaN</td>\n",
       "      <td>NaN</td>\n",
       "      <td>NaN</td>\n",
       "      <td>NaN</td>\n",
       "    </tr>\n",
       "    <tr>\n",
       "      <th>2015-01-02</th>\n",
       "      <td>2015-01-02</td>\n",
       "      <td>286.0</td>\n",
       "      <td>NaN</td>\n",
       "      <td>8157.0</td>\n",
       "      <td>NaN</td>\n",
       "      <td>NaN</td>\n",
       "      <td>NaN</td>\n",
       "      <td>NaN</td>\n",
       "      <td>NaN</td>\n",
       "      <td>NaN</td>\n",
       "      <td>NaN</td>\n",
       "      <td>3496.0</td>\n",
       "      <td>NaN</td>\n",
       "      <td>NaN</td>\n",
       "      <td>NaN</td>\n",
       "      <td>NaN</td>\n",
       "      <td>NaN</td>\n",
       "      <td>NaN</td>\n",
       "    </tr>\n",
       "    <tr>\n",
       "      <th>2015-01-03</th>\n",
       "      <td>2015-01-03</td>\n",
       "      <td>287.0</td>\n",
       "      <td>2769.0</td>\n",
       "      <td>8166.0</td>\n",
       "      <td>9722.0</td>\n",
       "      <td>NaN</td>\n",
       "      <td>NaN</td>\n",
       "      <td>NaN</td>\n",
       "      <td>NaN</td>\n",
       "      <td>NaN</td>\n",
       "      <td>1767.0</td>\n",
       "      <td>3496.0</td>\n",
       "      <td>2915.0</td>\n",
       "      <td>NaN</td>\n",
       "      <td>NaN</td>\n",
       "      <td>NaN</td>\n",
       "      <td>NaN</td>\n",
       "      <td>NaN</td>\n",
       "    </tr>\n",
       "    <tr>\n",
       "      <th>2015-01-04</th>\n",
       "      <td>2015-01-04</td>\n",
       "      <td>288.0</td>\n",
       "      <td>2775.0</td>\n",
       "      <td>NaN</td>\n",
       "      <td>9780.0</td>\n",
       "      <td>NaN</td>\n",
       "      <td>NaN</td>\n",
       "      <td>NaN</td>\n",
       "      <td>NaN</td>\n",
       "      <td>NaN</td>\n",
       "      <td>1781.0</td>\n",
       "      <td>NaN</td>\n",
       "      <td>2943.0</td>\n",
       "      <td>NaN</td>\n",
       "      <td>NaN</td>\n",
       "      <td>NaN</td>\n",
       "      <td>NaN</td>\n",
       "      <td>NaN</td>\n",
       "    </tr>\n",
       "    <tr>\n",
       "      <th>2015-01-05</th>\n",
       "      <td>2015-01-05</td>\n",
       "      <td>289.0</td>\n",
       "      <td>2776.0</td>\n",
       "      <td>NaN</td>\n",
       "      <td>10030.0</td>\n",
       "      <td>NaN</td>\n",
       "      <td>NaN</td>\n",
       "      <td>NaN</td>\n",
       "      <td>NaN</td>\n",
       "      <td>NaN</td>\n",
       "      <td>1786.0</td>\n",
       "      <td>NaN</td>\n",
       "      <td>2977.0</td>\n",
       "      <td>NaN</td>\n",
       "      <td>NaN</td>\n",
       "      <td>NaN</td>\n",
       "      <td>NaN</td>\n",
       "      <td>NaN</td>\n",
       "    </tr>\n",
       "  </tbody>\n",
       "</table>\n",
       "</div>"
      ],
      "text/plain": [
       "                 Date    Day  Cases_Guinea  Cases_Liberia  Cases_SierraLeone  \\\n",
       "2014-12-31 2014-12-31  284.0        2730.0         8115.0             9633.0   \n",
       "2015-01-01        NaT    NaN           NaN            NaN                NaN   \n",
       "2015-01-02 2015-01-02  286.0           NaN         8157.0                NaN   \n",
       "2015-01-03 2015-01-03  287.0        2769.0         8166.0             9722.0   \n",
       "2015-01-04 2015-01-04  288.0        2775.0            NaN             9780.0   \n",
       "2015-01-05 2015-01-05  289.0        2776.0            NaN            10030.0   \n",
       "\n",
       "            Cases_Nigeria  Cases_Senegal  Cases_UnitedStates  Cases_Spain  \\\n",
       "2014-12-31            NaN            NaN                 NaN          NaN   \n",
       "2015-01-01            NaN            NaN                 NaN          NaN   \n",
       "2015-01-02            NaN            NaN                 NaN          NaN   \n",
       "2015-01-03            NaN            NaN                 NaN          NaN   \n",
       "2015-01-04            NaN            NaN                 NaN          NaN   \n",
       "2015-01-05            NaN            NaN                 NaN          NaN   \n",
       "\n",
       "            Cases_Mali  Deaths_Guinea  Deaths_Liberia  Deaths_SierraLeone  \\\n",
       "2014-12-31         NaN         1739.0          3471.0              2827.0   \n",
       "2015-01-01         NaN            NaN             NaN                 NaN   \n",
       "2015-01-02         NaN            NaN          3496.0                 NaN   \n",
       "2015-01-03         NaN         1767.0          3496.0              2915.0   \n",
       "2015-01-04         NaN         1781.0             NaN              2943.0   \n",
       "2015-01-05         NaN         1786.0             NaN              2977.0   \n",
       "\n",
       "            Deaths_Nigeria  Deaths_Senegal  Deaths_UnitedStates  Deaths_Spain  \\\n",
       "2014-12-31             NaN             NaN                  NaN           NaN   \n",
       "2015-01-01             NaN             NaN                  NaN           NaN   \n",
       "2015-01-02             NaN             NaN                  NaN           NaN   \n",
       "2015-01-03             NaN             NaN                  NaN           NaN   \n",
       "2015-01-04             NaN             NaN                  NaN           NaN   \n",
       "2015-01-05             NaN             NaN                  NaN           NaN   \n",
       "\n",
       "            Deaths_Mali  \n",
       "2014-12-31          NaN  \n",
       "2015-01-01          NaN  \n",
       "2015-01-02          NaN  \n",
       "2015-01-03          NaN  \n",
       "2015-01-04          NaN  \n",
       "2015-01-05          NaN  "
      ]
     },
     "execution_count": 66,
     "metadata": {},
     "output_type": "execute_result"
    }
   ],
   "source": [
    "ebola_5.reindex(head_range)\n"
   ]
  },
  {
   "cell_type": "code",
   "execution_count": 67,
   "id": "d9204f16",
   "metadata": {},
   "outputs": [
    {
     "name": "stdout",
     "output_type": "stream",
     "text": [
      "                 Date  Day  Cases_Guinea  Cases_Liberia  Cases_SierraLeone\n",
      "Date                                                                      \n",
      "2015-01-05 2015-01-05  289        2776.0            NaN            10030.0\n",
      "2015-01-04 2015-01-04  288        2775.0            NaN             9780.0\n",
      "2015-01-03 2015-01-03  287        2769.0         8166.0             9722.0\n",
      "2015-01-02 2015-01-02  286           NaN         8157.0                NaN\n",
      "2014-12-31 2014-12-31  284        2730.0         8115.0             9633.0\n"
     ]
    }
   ],
   "source": [
    "print(ebola_5.iloc[:, :5])"
   ]
  },
  {
   "cell_type": "code",
   "execution_count": 68,
   "id": "4c963c88",
   "metadata": {},
   "outputs": [
    {
     "name": "stdout",
     "output_type": "stream",
     "text": [
      "DatetimeIndex(['2017-01-02', '2017-01-03', '2017-01-04', '2017-01-05',\n",
      "               '2017-01-06'],\n",
      "              dtype='datetime64[ns]', freq='B')\n"
     ]
    }
   ],
   "source": [
    "print(pd.date_range('2017-01-01', '2017-01-07', freq='B'))\n",
    "\n"
   ]
  },
  {
   "cell_type": "code",
   "execution_count": 70,
   "id": "cc66cc07",
   "metadata": {},
   "outputs": [
    {
     "data": {
      "image/png": "[encoded data removed]",
      "text/plain": [
       "<Figure size 432x288 with 1 Axes>"
      ]
     },
     "metadata": {
      "needs_background": "light"
     },
     "output_type": "display_data"
    }
   ],
   "source": [
    "import matplotlib.pyplot as plt\n",
    "\n",
    "\n",
    "ebola.index = ebola['Date']\n",
    "\n",
    "\n",
    "fig, ax = plt.subplots()\n",
    "\n",
    "ax = ebola.plot(ax=ax)\n",
    "\n",
    "ax.legend(fontsize=7,\n",
    "\n",
    "          loc=2,\n",
    "\n",
    "          borderaxespad=0.)\n",
    "\n",
    "plt.show()"
   ]
  },
  {
   "cell_type": "code",
   "execution_count": 74,
   "id": "cb43aaaf",
   "metadata": {},
   "outputs": [
    {
     "name": "stdout",
     "output_type": "stream",
     "text": [
      "            Day  Deaths_Guinea  Deaths_Liberia\n",
      "Date                                          \n",
      "2014-04-04   13           86.0             7.0\n",
      "2014-04-01   10           83.0             5.0\n",
      "2014-03-31    9           80.0             4.0\n",
      "2014-03-29    7           70.0             2.0\n",
      "2014-03-28    6           70.0             3.0\n",
      "2014-03-27    5           66.0             6.0\n",
      "2014-03-26    4           62.0             NaN\n",
      "2014-03-25    3           60.0             NaN\n",
      "2014-03-24    2           59.0             NaN\n",
      "2014-03-22    0           29.0             NaN\n"
     ]
    }
   ],
   "source": [
    "ebola_sub = ebola[['Day', 'Deaths_Guinea', 'Deaths_Liberia']]\n",
    "\n",
    "print(ebola_sub.tail(10))"
   ]
  },
  {
   "cell_type": "code",
   "execution_count": 75,
   "id": "57298109",
   "metadata": {},
   "outputs": [
    {
     "data": {
      "image/png": "[encoded data removed]",
      "text/plain": [
       "<Figure size 432x288 with 1 Axes>"
      ]
     },
     "metadata": {
      "needs_background": "light"
     },
     "output_type": "display_data"
    }
   ],
   "source": [
    "ax = ebola_sub.plot()\n",
    "plt.show()"
   ]
  },
  {
   "cell_type": "code",
   "execution_count": 76,
   "id": "e40d4d10",
   "metadata": {},
   "outputs": [
    {
     "name": "stdout",
     "output_type": "stream",
     "text": [
      "            Day  Cases_Guinea  Cases_Liberia  Cases_SierraLeone\n",
      "Date                                                           \n",
      "2015-01-05  289        2776.0            NaN            10030.0\n",
      "2015-01-04  288        2775.0            NaN             9780.0\n",
      "2015-01-03  287        2769.0         8166.0             9722.0\n",
      "2015-01-02  286           NaN         8157.0                NaN\n",
      "2014-12-31  284        2730.0         8115.0             9633.0\n"
     ]
    }
   ],
   "source": [
    "ebola = pd.read_csv('data/country_timeseries.csv',\n",
    "\n",
    "                     index_col='Date',\n",
    "\n",
    "                     parse_dates=['Date'])\n",
    "\n",
    "print(ebola.head().iloc[:, :4])"
   ]
  },
  {
   "cell_type": "code",
   "execution_count": 77,
   "id": "6cb86813",
   "metadata": {},
   "outputs": [
    {
     "name": "stdout",
     "output_type": "stream",
     "text": [
      "            Day  Cases_Guinea  Cases_Liberia  Cases_SierraLeone\n",
      "Date                                                           \n",
      "2014-03-27    5         103.0            8.0                6.0\n",
      "2014-03-26    4          86.0            NaN                NaN\n",
      "2014-03-25    3          86.0            NaN                NaN\n",
      "2014-03-24    2          86.0            NaN                NaN\n",
      "2014-03-22    0          49.0            NaN                NaN\n"
     ]
    }
   ],
   "source": [
    "print(ebola.tail().iloc[:, :4])"
   ]
  },
  {
   "cell_type": "code",
   "execution_count": 78,
   "id": "ac66688d",
   "metadata": {},
   "outputs": [],
   "source": [
    "new_idx = pd.date_range(ebola.index.min(), ebola.index.max())"
   ]
  },
  {
   "cell_type": "code",
   "execution_count": 79,
   "id": "45411bf5",
   "metadata": {},
   "outputs": [
    {
     "name": "stdout",
     "output_type": "stream",
     "text": [
      "DatetimeIndex(['2014-03-22', '2014-03-23', '2014-03-24', '2014-03-25',\n",
      "               '2014-03-26', '2014-03-27', '2014-03-28', '2014-03-29',\n",
      "               '2014-03-30', '2014-03-31',\n",
      "               ...\n",
      "               '2014-12-27', '2014-12-28', '2014-12-29', '2014-12-30',\n",
      "               '2014-12-31', '2015-01-01', '2015-01-02', '2015-01-03',\n",
      "               '2015-01-04', '2015-01-05'],\n",
      "              dtype='datetime64[ns]', length=290, freq='D')\n"
     ]
    }
   ],
   "source": [
    "print(new_idx)"
   ]
  },
  {
   "cell_type": "code",
   "execution_count": 80,
   "id": "26ce208a",
   "metadata": {},
   "outputs": [],
   "source": [
    "new_idx = reversed(new_idx)"
   ]
  },
  {
   "cell_type": "code",
   "execution_count": 82,
   "id": "ad8b7548",
   "metadata": {},
   "outputs": [
    {
     "name": "stdout",
     "output_type": "stream",
     "text": [
      "<reversed object at 0x7f78cb097340>\n"
     ]
    }
   ],
   "source": [
    "print(new_idx)"
   ]
  },
  {
   "cell_type": "code",
   "execution_count": 83,
   "id": "7d73b176",
   "metadata": {},
   "outputs": [],
   "source": [
    "ebola = ebola.reindex(new_idx)"
   ]
  },
  {
   "cell_type": "code",
   "execution_count": 90,
   "id": "5ccde3b8",
   "metadata": {},
   "outputs": [
    {
     "data": {
      "text/html": [
       "<div>\n",
       "<style scoped>\n",
       "    .dataframe tbody tr th:only-of-type {\n",
       "        vertical-align: middle;\n",
       "    }\n",
       "\n",
       "    .dataframe tbody tr th {\n",
       "        vertical-align: top;\n",
       "    }\n",
       "\n",
       "    .dataframe thead th {\n",
       "        text-align: right;\n",
       "    }\n",
       "</style>\n",
       "<table border=\"1\" class=\"dataframe\">\n",
       "  <thead>\n",
       "    <tr style=\"text-align: right;\">\n",
       "      <th></th>\n",
       "      <th>Day</th>\n",
       "      <th>Cases_Guinea</th>\n",
       "      <th>Cases_Liberia</th>\n",
       "      <th>Cases_SierraLeone</th>\n",
       "    </tr>\n",
       "    <tr>\n",
       "      <th>Date</th>\n",
       "      <th></th>\n",
       "      <th></th>\n",
       "      <th></th>\n",
       "      <th></th>\n",
       "    </tr>\n",
       "  </thead>\n",
       "  <tbody>\n",
       "    <tr>\n",
       "      <th>2014-03-31</th>\n",
       "      <td>9.0</td>\n",
       "      <td>122.0</td>\n",
       "      <td>8.0</td>\n",
       "      <td>2.0</td>\n",
       "    </tr>\n",
       "    <tr>\n",
       "      <th>2014-03-30</th>\n",
       "      <td>NaN</td>\n",
       "      <td>NaN</td>\n",
       "      <td>NaN</td>\n",
       "      <td>NaN</td>\n",
       "    </tr>\n",
       "    <tr>\n",
       "      <th>2014-03-29</th>\n",
       "      <td>7.0</td>\n",
       "      <td>112.0</td>\n",
       "      <td>7.0</td>\n",
       "      <td>NaN</td>\n",
       "    </tr>\n",
       "    <tr>\n",
       "      <th>2014-03-28</th>\n",
       "      <td>6.0</td>\n",
       "      <td>112.0</td>\n",
       "      <td>3.0</td>\n",
       "      <td>2.0</td>\n",
       "    </tr>\n",
       "    <tr>\n",
       "      <th>2014-03-27</th>\n",
       "      <td>5.0</td>\n",
       "      <td>103.0</td>\n",
       "      <td>8.0</td>\n",
       "      <td>6.0</td>\n",
       "    </tr>\n",
       "    <tr>\n",
       "      <th>2014-03-26</th>\n",
       "      <td>4.0</td>\n",
       "      <td>86.0</td>\n",
       "      <td>NaN</td>\n",
       "      <td>NaN</td>\n",
       "    </tr>\n",
       "    <tr>\n",
       "      <th>2014-03-25</th>\n",
       "      <td>3.0</td>\n",
       "      <td>86.0</td>\n",
       "      <td>NaN</td>\n",
       "      <td>NaN</td>\n",
       "    </tr>\n",
       "    <tr>\n",
       "      <th>2014-03-24</th>\n",
       "      <td>2.0</td>\n",
       "      <td>86.0</td>\n",
       "      <td>NaN</td>\n",
       "      <td>NaN</td>\n",
       "    </tr>\n",
       "    <tr>\n",
       "      <th>2014-03-23</th>\n",
       "      <td>NaN</td>\n",
       "      <td>NaN</td>\n",
       "      <td>NaN</td>\n",
       "      <td>NaN</td>\n",
       "    </tr>\n",
       "    <tr>\n",
       "      <th>2014-03-22</th>\n",
       "      <td>0.0</td>\n",
       "      <td>49.0</td>\n",
       "      <td>NaN</td>\n",
       "      <td>NaN</td>\n",
       "    </tr>\n",
       "  </tbody>\n",
       "</table>\n",
       "</div>"
      ],
      "text/plain": [
       "            Day  Cases_Guinea  Cases_Liberia  Cases_SierraLeone\n",
       "Date                                                           \n",
       "2014-03-31  9.0         122.0            8.0                2.0\n",
       "2014-03-30  NaN           NaN            NaN                NaN\n",
       "2014-03-29  7.0         112.0            7.0                NaN\n",
       "2014-03-28  6.0         112.0            3.0                2.0\n",
       "2014-03-27  5.0         103.0            8.0                6.0\n",
       "2014-03-26  4.0          86.0            NaN                NaN\n",
       "2014-03-25  3.0          86.0            NaN                NaN\n",
       "2014-03-24  2.0          86.0            NaN                NaN\n",
       "2014-03-23  NaN           NaN            NaN                NaN\n",
       "2014-03-22  0.0          49.0            NaN                NaN"
      ]
     },
     "execution_count": 90,
     "metadata": {},
     "output_type": "execute_result"
    }
   ],
   "source": [
    "ebola.tail(10).iloc[:,:4]"
   ]
  },
  {
   "cell_type": "code",
   "execution_count": 89,
   "id": "c82794b6",
   "metadata": {},
   "outputs": [
    {
     "name": "stdout",
     "output_type": "stream",
     "text": [
      "Day                   2014-03-22\n",
      "Cases_Guinea          2014-03-22\n",
      "Cases_Liberia         2014-03-27\n",
      "Cases_SierraLeone     2014-03-27\n",
      "Cases_Nigeria         2014-07-23\n",
      "Cases_Senegal         2014-08-31\n",
      "Cases_UnitedStates    2014-10-01\n",
      "Cases_Spain           2014-10-08\n",
      "Cases_Mali            2014-10-22\n",
      "Deaths_Guinea         2014-03-22\n",
      "Deaths_Liberia        2014-03-27\n",
      "Deaths_SierraLeone    2014-03-27\n",
      "Deaths_Nigeria        2014-07-23\n",
      "Deaths_Senegal        2014-09-07\n",
      "Deaths_UnitedStates   2014-10-01\n",
      "Deaths_Spain          2014-10-08\n",
      "Deaths_Mali           2014-10-22\n",
      "dtype: datetime64[ns]\n"
     ]
    }
   ],
   "source": [
    "last_valid = ebola.apply(pd.Series.last_valid_index)\n",
    "\n",
    "print(last_valid)"
   ]
  },
  {
   "cell_type": "code",
   "execution_count": 91,
   "id": "d02acdc8",
   "metadata": {},
   "outputs": [
    {
     "name": "stdout",
     "output_type": "stream",
     "text": [
      "2014-03-22 00:00:00\n"
     ]
    }
   ],
   "source": [
    "earliest_date = ebola.index.min()\n",
    "\n",
    "print(earliest_date)"
   ]
  },
  {
   "cell_type": "code",
   "execution_count": 92,
   "id": "30ebe092",
   "metadata": {},
   "outputs": [
    {
     "name": "stdout",
     "output_type": "stream",
     "text": [
      "Day                     0 days\n",
      "Cases_Guinea            0 days\n",
      "Cases_Liberia           5 days\n",
      "Cases_SierraLeone       5 days\n",
      "Cases_Nigeria         123 days\n",
      "Cases_Senegal         162 days\n",
      "Cases_UnitedStates    193 days\n",
      "Cases_Spain           200 days\n",
      "Cases_Mali            214 days\n",
      "Deaths_Guinea           0 days\n",
      "Deaths_Liberia          5 days\n",
      "Deaths_SierraLeone      5 days\n",
      "Deaths_Nigeria        123 days\n",
      "Deaths_Senegal        169 days\n",
      "Deaths_UnitedStates   193 days\n",
      "Deaths_Spain          200 days\n",
      "Deaths_Mali           214 days\n",
      "dtype: timedelta64[ns]\n"
     ]
    }
   ],
   "source": [
    "shift_values = last_valid - earliest_date\n",
    "\n",
    "print(shift_values)"
   ]
  },
  {
   "cell_type": "code",
   "execution_count": 95,
   "id": "349a015f",
   "metadata": {},
   "outputs": [
    {
     "name": "stdout",
     "output_type": "stream",
     "text": [
      "0\n",
      "Day\n",
      "1\n",
      "Cases_Guinea\n",
      "2\n",
      "Cases_Liberia\n",
      "3\n",
      "Cases_SierraLeone\n",
      "4\n",
      "Cases_Nigeria\n",
      "5\n",
      "Cases_Senegal\n",
      "6\n",
      "Cases_UnitedStates\n",
      "7\n",
      "Cases_Spain\n",
      "8\n",
      "Cases_Mali\n",
      "9\n",
      "Deaths_Guinea\n",
      "10\n",
      "Deaths_Liberia\n",
      "11\n",
      "Deaths_SierraLeone\n",
      "12\n",
      "Deaths_Nigeria\n",
      "13\n",
      "Deaths_Senegal\n",
      "14\n",
      "Deaths_UnitedStates\n",
      "15\n",
      "Deaths_Spain\n",
      "16\n",
      "Deaths_Mali\n"
     ]
    }
   ],
   "source": [
    "ebola_dict = {}\n",
    "\n",
    "for idx, col in enumerate(ebola):\n",
    "    print(idx)\n",
    "    print(col)\n",
    "\n",
    "    d = shift_values[idx].days\n",
    "\n",
    "    shifted = ebola[col].shift(d)\n",
    "\n",
    "    ebola_dict[col] = shifted"
   ]
  },
  {
   "cell_type": "code",
   "execution_count": 94,
   "id": "a7d6ab7a",
   "metadata": {},
   "outputs": [
    {
     "data": {
      "text/plain": [
       "<enumerate at 0x7f78cb0aae80>"
      ]
     },
     "execution_count": 94,
     "metadata": {},
     "output_type": "execute_result"
    }
   ],
   "source": [
    "enumerate(ebola)"
   ]
  },
  {
   "cell_type": "code",
   "execution_count": 96,
   "id": "1214328a",
   "metadata": {},
   "outputs": [
    {
     "data": {
      "text/plain": [
       "{'Day': Date\n",
       " 2015-01-05    289.0\n",
       " 2015-01-04    288.0\n",
       " 2015-01-03    287.0\n",
       " 2015-01-02    286.0\n",
       " 2015-01-01      NaN\n",
       "               ...  \n",
       " 2014-03-26      4.0\n",
       " 2014-03-25      3.0\n",
       " 2014-03-24      2.0\n",
       " 2014-03-23      NaN\n",
       " 2014-03-22      0.0\n",
       " Name: Day, Length: 290, dtype: float64,\n",
       " 'Cases_Guinea': Date\n",
       " 2015-01-05    2776.0\n",
       " 2015-01-04    2775.0\n",
       " 2015-01-03    2769.0\n",
       " 2015-01-02       NaN\n",
       " 2015-01-01       NaN\n",
       "                ...  \n",
       " 2014-03-26      86.0\n",
       " 2014-03-25      86.0\n",
       " 2014-03-24      86.0\n",
       " 2014-03-23       NaN\n",
       " 2014-03-22      49.0\n",
       " Name: Cases_Guinea, Length: 290, dtype: float64,\n",
       " 'Cases_Liberia': Date\n",
       " 2015-01-05    NaN\n",
       " 2015-01-04    NaN\n",
       " 2015-01-03    NaN\n",
       " 2015-01-02    NaN\n",
       " 2015-01-01    NaN\n",
       "              ... \n",
       " 2014-03-26    8.0\n",
       " 2014-03-25    NaN\n",
       " 2014-03-24    7.0\n",
       " 2014-03-23    3.0\n",
       " 2014-03-22    8.0\n",
       " Name: Cases_Liberia, Length: 290, dtype: float64,\n",
       " 'Cases_SierraLeone': Date\n",
       " 2015-01-05    NaN\n",
       " 2015-01-04    NaN\n",
       " 2015-01-03    NaN\n",
       " 2015-01-02    NaN\n",
       " 2015-01-01    NaN\n",
       "              ... \n",
       " 2014-03-26    2.0\n",
       " 2014-03-25    NaN\n",
       " 2014-03-24    NaN\n",
       " 2014-03-23    2.0\n",
       " 2014-03-22    6.0\n",
       " Name: Cases_SierraLeone, Length: 290, dtype: float64,\n",
       " 'Cases_Nigeria': Date\n",
       " 2015-01-05    NaN\n",
       " 2015-01-04    NaN\n",
       " 2015-01-03    NaN\n",
       " 2015-01-02    NaN\n",
       " 2015-01-01    NaN\n",
       "              ... \n",
       " 2014-03-26    1.0\n",
       " 2014-03-25    NaN\n",
       " 2014-03-24    NaN\n",
       " 2014-03-23    NaN\n",
       " 2014-03-22    0.0\n",
       " Name: Cases_Nigeria, Length: 290, dtype: float64,\n",
       " 'Cases_Senegal': Date\n",
       " 2015-01-05    NaN\n",
       " 2015-01-04    NaN\n",
       " 2015-01-03    NaN\n",
       " 2015-01-02    NaN\n",
       " 2015-01-01    NaN\n",
       "              ... \n",
       " 2014-03-26    NaN\n",
       " 2014-03-25    NaN\n",
       " 2014-03-24    NaN\n",
       " 2014-03-23    NaN\n",
       " 2014-03-22    1.0\n",
       " Name: Cases_Senegal, Length: 290, dtype: float64,\n",
       " 'Cases_UnitedStates': Date\n",
       " 2015-01-05    NaN\n",
       " 2015-01-04    NaN\n",
       " 2015-01-03    NaN\n",
       " 2015-01-02    NaN\n",
       " 2015-01-01    NaN\n",
       "              ... \n",
       " 2014-03-26    1.0\n",
       " 2014-03-25    NaN\n",
       " 2014-03-24    NaN\n",
       " 2014-03-23    NaN\n",
       " 2014-03-22    1.0\n",
       " Name: Cases_UnitedStates, Length: 290, dtype: float64,\n",
       " 'Cases_Spain': Date\n",
       " 2015-01-05    NaN\n",
       " 2015-01-04    NaN\n",
       " 2015-01-03    NaN\n",
       " 2015-01-02    NaN\n",
       " 2015-01-01    NaN\n",
       "              ... \n",
       " 2014-03-26    1.0\n",
       " 2014-03-25    NaN\n",
       " 2014-03-24    NaN\n",
       " 2014-03-23    NaN\n",
       " 2014-03-22    1.0\n",
       " Name: Cases_Spain, Length: 290, dtype: float64,\n",
       " 'Cases_Mali': Date\n",
       " 2015-01-05    NaN\n",
       " 2015-01-04    NaN\n",
       " 2015-01-03    NaN\n",
       " 2015-01-02    NaN\n",
       " 2015-01-01    NaN\n",
       "              ... \n",
       " 2014-03-26    NaN\n",
       " 2014-03-25    NaN\n",
       " 2014-03-24    NaN\n",
       " 2014-03-23    NaN\n",
       " 2014-03-22    1.0\n",
       " Name: Cases_Mali, Length: 290, dtype: float64,\n",
       " 'Deaths_Guinea': Date\n",
       " 2015-01-05    1786.0\n",
       " 2015-01-04    1781.0\n",
       " 2015-01-03    1767.0\n",
       " 2015-01-02       NaN\n",
       " 2015-01-01       NaN\n",
       "                ...  \n",
       " 2014-03-26      62.0\n",
       " 2014-03-25      60.0\n",
       " 2014-03-24      59.0\n",
       " 2014-03-23       NaN\n",
       " 2014-03-22      29.0\n",
       " Name: Deaths_Guinea, Length: 290, dtype: float64,\n",
       " 'Deaths_Liberia': Date\n",
       " 2015-01-05    NaN\n",
       " 2015-01-04    NaN\n",
       " 2015-01-03    NaN\n",
       " 2015-01-02    NaN\n",
       " 2015-01-01    NaN\n",
       "              ... \n",
       " 2014-03-26    4.0\n",
       " 2014-03-25    NaN\n",
       " 2014-03-24    2.0\n",
       " 2014-03-23    3.0\n",
       " 2014-03-22    6.0\n",
       " Name: Deaths_Liberia, Length: 290, dtype: float64,\n",
       " 'Deaths_SierraLeone': Date\n",
       " 2015-01-05    NaN\n",
       " 2015-01-04    NaN\n",
       " 2015-01-03    NaN\n",
       " 2015-01-02    NaN\n",
       " 2015-01-01    NaN\n",
       "              ... \n",
       " 2014-03-26    2.0\n",
       " 2014-03-25    NaN\n",
       " 2014-03-24    NaN\n",
       " 2014-03-23    2.0\n",
       " 2014-03-22    5.0\n",
       " Name: Deaths_SierraLeone, Length: 290, dtype: float64,\n",
       " 'Deaths_Nigeria': Date\n",
       " 2015-01-05    NaN\n",
       " 2015-01-04    NaN\n",
       " 2015-01-03    NaN\n",
       " 2015-01-02    NaN\n",
       " 2015-01-01    NaN\n",
       "              ... \n",
       " 2014-03-26    1.0\n",
       " 2014-03-25    NaN\n",
       " 2014-03-24    NaN\n",
       " 2014-03-23    NaN\n",
       " 2014-03-22    0.0\n",
       " Name: Deaths_Nigeria, Length: 290, dtype: float64,\n",
       " 'Deaths_Senegal': Date\n",
       " 2015-01-05    NaN\n",
       " 2015-01-04    NaN\n",
       " 2015-01-03    NaN\n",
       " 2015-01-02    NaN\n",
       " 2015-01-01    NaN\n",
       "              ... \n",
       " 2014-03-26    NaN\n",
       " 2014-03-25    NaN\n",
       " 2014-03-24    NaN\n",
       " 2014-03-23    NaN\n",
       " 2014-03-22    0.0\n",
       " Name: Deaths_Senegal, Length: 290, dtype: float64,\n",
       " 'Deaths_UnitedStates': Date\n",
       " 2015-01-05    NaN\n",
       " 2015-01-04    NaN\n",
       " 2015-01-03    NaN\n",
       " 2015-01-02    NaN\n",
       " 2015-01-01    NaN\n",
       "              ... \n",
       " 2014-03-26    0.0\n",
       " 2014-03-25    NaN\n",
       " 2014-03-24    NaN\n",
       " 2014-03-23    NaN\n",
       " 2014-03-22    0.0\n",
       " Name: Deaths_UnitedStates, Length: 290, dtype: float64,\n",
       " 'Deaths_Spain': Date\n",
       " 2015-01-05    NaN\n",
       " 2015-01-04    NaN\n",
       " 2015-01-03    NaN\n",
       " 2015-01-02    NaN\n",
       " 2015-01-01    NaN\n",
       "              ... \n",
       " 2014-03-26    1.0\n",
       " 2014-03-25    NaN\n",
       " 2014-03-24    NaN\n",
       " 2014-03-23    NaN\n",
       " 2014-03-22    1.0\n",
       " Name: Deaths_Spain, Length: 290, dtype: float64,\n",
       " 'Deaths_Mali': Date\n",
       " 2015-01-05    NaN\n",
       " 2015-01-04    NaN\n",
       " 2015-01-03    NaN\n",
       " 2015-01-02    NaN\n",
       " 2015-01-01    NaN\n",
       "              ... \n",
       " 2014-03-26    NaN\n",
       " 2014-03-25    NaN\n",
       " 2014-03-24    NaN\n",
       " 2014-03-23    NaN\n",
       " 2014-03-22    1.0\n",
       " Name: Deaths_Mali, Length: 290, dtype: float64}"
      ]
     },
     "execution_count": 96,
     "metadata": {},
     "output_type": "execute_result"
    }
   ],
   "source": [
    "ebola_dict"
   ]
  },
  {
   "cell_type": "code",
   "execution_count": 97,
   "id": "12cb5243",
   "metadata": {},
   "outputs": [],
   "source": [
    "ebola_shift = pd.DataFrame(ebola_dict)"
   ]
  },
  {
   "cell_type": "code",
   "execution_count": 98,
   "id": "526edd4a",
   "metadata": {},
   "outputs": [],
   "source": [
    "import pytz"
   ]
  },
  {
   "cell_type": "code",
   "execution_count": 100,
   "id": "39e5c2da",
   "metadata": {},
   "outputs": [
    {
     "name": "stdout",
     "output_type": "stream",
     "text": [
      "['Africa/Abidjan', 'Africa/Accra', 'Africa/Addis_Ababa', 'Africa/Algiers', 'Africa/Asmara', 'Africa/Asmera', 'Africa/Bamako', 'Africa/Bangui', 'Africa/Banjul', 'Africa/Bissau', 'Africa/Blantyre', 'Africa/Brazzaville', 'Africa/Bujumbura', 'Africa/Cairo', 'Africa/Casablanca', 'Africa/Ceuta', 'Africa/Conakry', 'Africa/Dakar', 'Africa/Dar_es_Salaam', 'Africa/Djibouti', 'Africa/Douala', 'Africa/El_Aaiun', 'Africa/Freetown', 'Africa/Gaborone', 'Africa/Harare', 'Africa/Johannesburg', 'Africa/Juba', 'Africa/Kampala', 'Africa/Khartoum', 'Africa/Kigali', 'Africa/Kinshasa', 'Africa/Lagos', 'Africa/Libreville', 'Africa/Lome', 'Africa/Luanda', 'Africa/Lubumbashi', 'Africa/Lusaka', 'Africa/Malabo', 'Africa/Maputo', 'Africa/Maseru', 'Africa/Mbabane', 'Africa/Mogadishu', 'Africa/Monrovia', 'Africa/Nairobi', 'Africa/Ndjamena', 'Africa/Niamey', 'Africa/Nouakchott', 'Africa/Ouagadougou', 'Africa/Porto-Novo', 'Africa/Sao_Tome', 'Africa/Timbuktu', 'Africa/Tripoli', 'Africa/Tunis', 'Africa/Windhoek', 'America/Adak', 'America/Anchorage', 'America/Anguilla', 'America/Antigua', 'America/Araguaina', 'America/Argentina/Buenos_Aires', 'America/Argentina/Catamarca', 'America/Argentina/ComodRivadavia', 'America/Argentina/Cordoba', 'America/Argentina/Jujuy', 'America/Argentina/La_Rioja', 'America/Argentina/Mendoza', 'America/Argentina/Rio_Gallegos', 'America/Argentina/Salta', 'America/Argentina/San_Juan', 'America/Argentina/San_Luis', 'America/Argentina/Tucuman', 'America/Argentina/Ushuaia', 'America/Aruba', 'America/Asuncion', 'America/Atikokan', 'America/Atka', 'America/Bahia', 'America/Bahia_Banderas', 'America/Barbados', 'America/Belem', 'America/Belize', 'America/Blanc-Sablon', 'America/Boa_Vista', 'America/Bogota', 'America/Boise', 'America/Buenos_Aires', 'America/Cambridge_Bay', 'America/Campo_Grande', 'America/Cancun', 'America/Caracas', 'America/Catamarca', 'America/Cayenne', 'America/Cayman', 'America/Chicago', 'America/Chihuahua', 'America/Coral_Harbour', 'America/Cordoba', 'America/Costa_Rica', 'America/Creston', 'America/Cuiaba', 'America/Curacao', 'America/Danmarkshavn', 'America/Dawson', 'America/Dawson_Creek', 'America/Denver', 'America/Detroit', 'America/Dominica', 'America/Edmonton', 'America/Eirunepe', 'America/El_Salvador', 'America/Ensenada', 'America/Fort_Nelson', 'America/Fort_Wayne', 'America/Fortaleza', 'America/Glace_Bay', 'America/Godthab', 'America/Goose_Bay', 'America/Grand_Turk', 'America/Grenada', 'America/Guadeloupe', 'America/Guatemala', 'America/Guayaquil', 'America/Guyana', 'America/Halifax', 'America/Havana', 'America/Hermosillo', 'America/Indiana/Indianapolis', 'America/Indiana/Knox', 'America/Indiana/Marengo', 'America/Indiana/Petersburg', 'America/Indiana/Tell_City', 'America/Indiana/Vevay', 'America/Indiana/Vincennes', 'America/Indiana/Winamac', 'America/Indianapolis', 'America/Inuvik', 'America/Iqaluit', 'America/Jamaica', 'America/Jujuy', 'America/Juneau', 'America/Kentucky/Louisville', 'America/Kentucky/Monticello', 'America/Knox_IN', 'America/Kralendijk', 'America/La_Paz', 'America/Lima', 'America/Los_Angeles', 'America/Louisville', 'America/Lower_Princes', 'America/Maceio', 'America/Managua', 'America/Manaus', 'America/Marigot', 'America/Martinique', 'America/Matamoros', 'America/Mazatlan', 'America/Mendoza', 'America/Menominee', 'America/Merida', 'America/Metlakatla', 'America/Mexico_City', 'America/Miquelon', 'America/Moncton', 'America/Monterrey', 'America/Montevideo', 'America/Montreal', 'America/Montserrat', 'America/Nassau', 'America/New_York', 'America/Nipigon', 'America/Nome', 'America/Noronha', 'America/North_Dakota/Beulah', 'America/North_Dakota/Center', 'America/North_Dakota/New_Salem', 'America/Nuuk', 'America/Ojinaga', 'America/Panama', 'America/Pangnirtung', 'America/Paramaribo', 'America/Phoenix', 'America/Port-au-Prince', 'America/Port_of_Spain', 'America/Porto_Acre', 'America/Porto_Velho', 'America/Puerto_Rico', 'America/Punta_Arenas', 'America/Rainy_River', 'America/Rankin_Inlet', 'America/Recife', 'America/Regina', 'America/Resolute', 'America/Rio_Branco', 'America/Rosario', 'America/Santa_Isabel', 'America/Santarem', 'America/Santiago', 'America/Santo_Domingo', 'America/Sao_Paulo', 'America/Scoresbysund', 'America/Shiprock', 'America/Sitka', 'America/St_Barthelemy', 'America/St_Johns', 'America/St_Kitts', 'America/St_Lucia', 'America/St_Thomas', 'America/St_Vincent', 'America/Swift_Current', 'America/Tegucigalpa', 'America/Thule', 'America/Thunder_Bay', 'America/Tijuana', 'America/Toronto', 'America/Tortola', 'America/Vancouver', 'America/Virgin', 'America/Whitehorse', 'America/Winnipeg', 'America/Yakutat', 'America/Yellowknife', 'Antarctica/Casey', 'Antarctica/Davis', 'Antarctica/DumontDUrville', 'Antarctica/Macquarie', 'Antarctica/Mawson', 'Antarctica/McMurdo', 'Antarctica/Palmer', 'Antarctica/Rothera', 'Antarctica/South_Pole', 'Antarctica/Syowa', 'Antarctica/Troll', 'Antarctica/Vostok', 'Arctic/Longyearbyen', 'Asia/Aden', 'Asia/Almaty', 'Asia/Amman', 'Asia/Anadyr', 'Asia/Aqtau', 'Asia/Aqtobe', 'Asia/Ashgabat', 'Asia/Ashkhabad', 'Asia/Atyrau', 'Asia/Baghdad', 'Asia/Bahrain', 'Asia/Baku', 'Asia/Bangkok', 'Asia/Barnaul', 'Asia/Beirut', 'Asia/Bishkek', 'Asia/Brunei', 'Asia/Calcutta', 'Asia/Chita', 'Asia/Choibalsan', 'Asia/Chongqing', 'Asia/Chungking', 'Asia/Colombo', 'Asia/Dacca', 'Asia/Damascus', 'Asia/Dhaka', 'Asia/Dili', 'Asia/Dubai', 'Asia/Dushanbe', 'Asia/Famagusta', 'Asia/Gaza', 'Asia/Harbin', 'Asia/Hebron', 'Asia/Ho_Chi_Minh', 'Asia/Hong_Kong', 'Asia/Hovd', 'Asia/Irkutsk', 'Asia/Istanbul', 'Asia/Jakarta', 'Asia/Jayapura', 'Asia/Jerusalem', 'Asia/Kabul', 'Asia/Kamchatka', 'Asia/Karachi', 'Asia/Kashgar', 'Asia/Kathmandu', 'Asia/Katmandu', 'Asia/Khandyga', 'Asia/Kolkata', 'Asia/Krasnoyarsk', 'Asia/Kuala_Lumpur', 'Asia/Kuching', 'Asia/Kuwait', 'Asia/Macao', 'Asia/Macau', 'Asia/Magadan', 'Asia/Makassar', 'Asia/Manila', 'Asia/Muscat', 'Asia/Nicosia', 'Asia/Novokuznetsk', 'Asia/Novosibirsk', 'Asia/Omsk', 'Asia/Oral', 'Asia/Phnom_Penh', 'Asia/Pontianak', 'Asia/Pyongyang', 'Asia/Qatar', 'Asia/Qostanay', 'Asia/Qyzylorda', 'Asia/Rangoon', 'Asia/Riyadh', 'Asia/Saigon', 'Asia/Sakhalin', 'Asia/Samarkand', 'Asia/Seoul', 'Asia/Shanghai', 'Asia/Singapore', 'Asia/Srednekolymsk', 'Asia/Taipei', 'Asia/Tashkent', 'Asia/Tbilisi', 'Asia/Tehran', 'Asia/Tel_Aviv', 'Asia/Thimbu', 'Asia/Thimphu', 'Asia/Tokyo', 'Asia/Tomsk', 'Asia/Ujung_Pandang', 'Asia/Ulaanbaatar', 'Asia/Ulan_Bator', 'Asia/Urumqi', 'Asia/Ust-Nera', 'Asia/Vientiane', 'Asia/Vladivostok', 'Asia/Yakutsk', 'Asia/Yangon', 'Asia/Yekaterinburg', 'Asia/Yerevan', 'Atlantic/Azores', 'Atlantic/Bermuda', 'Atlantic/Canary', 'Atlantic/Cape_Verde', 'Atlantic/Faeroe', 'Atlantic/Faroe', 'Atlantic/Jan_Mayen', 'Atlantic/Madeira', 'Atlantic/Reykjavik', 'Atlantic/South_Georgia', 'Atlantic/St_Helena', 'Atlantic/Stanley', 'Australia/ACT', 'Australia/Adelaide', 'Australia/Brisbane', 'Australia/Broken_Hill', 'Australia/Canberra', 'Australia/Currie', 'Australia/Darwin', 'Australia/Eucla', 'Australia/Hobart', 'Australia/LHI', 'Australia/Lindeman', 'Australia/Lord_Howe', 'Australia/Melbourne', 'Australia/NSW', 'Australia/North', 'Australia/Perth', 'Australia/Queensland', 'Australia/South', 'Australia/Sydney', 'Australia/Tasmania', 'Australia/Victoria', 'Australia/West', 'Australia/Yancowinna', 'Brazil/Acre', 'Brazil/DeNoronha', 'Brazil/East', 'Brazil/West', 'CET', 'CST6CDT', 'Canada/Atlantic', 'Canada/Central', 'Canada/Eastern', 'Canada/Mountain', 'Canada/Newfoundland', 'Canada/Pacific', 'Canada/Saskatchewan', 'Canada/Yukon', 'Chile/Continental', 'Chile/EasterIsland', 'Cuba', 'EET', 'EST', 'EST5EDT', 'Egypt', 'Eire', 'Etc/GMT', 'Etc/GMT+0', 'Etc/GMT+1', 'Etc/GMT+10', 'Etc/GMT+11', 'Etc/GMT+12', 'Etc/GMT+2', 'Etc/GMT+3', 'Etc/GMT+4', 'Etc/GMT+5', 'Etc/GMT+6', 'Etc/GMT+7', 'Etc/GMT+8', 'Etc/GMT+9', 'Etc/GMT-0', 'Etc/GMT-1', 'Etc/GMT-10', 'Etc/GMT-11', 'Etc/GMT-12', 'Etc/GMT-13', 'Etc/GMT-14', 'Etc/GMT-2', 'Etc/GMT-3', 'Etc/GMT-4', 'Etc/GMT-5', 'Etc/GMT-6', 'Etc/GMT-7', 'Etc/GMT-8', 'Etc/GMT-9', 'Etc/GMT0', 'Etc/Greenwich', 'Etc/UCT', 'Etc/UTC', 'Etc/Universal', 'Etc/Zulu', 'Europe/Amsterdam', 'Europe/Andorra', 'Europe/Astrakhan', 'Europe/Athens', 'Europe/Belfast', 'Europe/Belgrade', 'Europe/Berlin', 'Europe/Bratislava', 'Europe/Brussels', 'Europe/Bucharest', 'Europe/Budapest', 'Europe/Busingen', 'Europe/Chisinau', 'Europe/Copenhagen', 'Europe/Dublin', 'Europe/Gibraltar', 'Europe/Guernsey', 'Europe/Helsinki', 'Europe/Isle_of_Man', 'Europe/Istanbul', 'Europe/Jersey', 'Europe/Kaliningrad', 'Europe/Kiev', 'Europe/Kirov', 'Europe/Lisbon', 'Europe/Ljubljana', 'Europe/London', 'Europe/Luxembourg', 'Europe/Madrid', 'Europe/Malta', 'Europe/Mariehamn', 'Europe/Minsk', 'Europe/Monaco', 'Europe/Moscow', 'Europe/Nicosia', 'Europe/Oslo', 'Europe/Paris', 'Europe/Podgorica', 'Europe/Prague', 'Europe/Riga', 'Europe/Rome', 'Europe/Samara', 'Europe/San_Marino', 'Europe/Sarajevo', 'Europe/Saratov', 'Europe/Simferopol', 'Europe/Skopje', 'Europe/Sofia', 'Europe/Stockholm', 'Europe/Tallinn', 'Europe/Tirane', 'Europe/Tiraspol', 'Europe/Ulyanovsk', 'Europe/Uzhgorod', 'Europe/Vaduz', 'Europe/Vatican', 'Europe/Vienna', 'Europe/Vilnius', 'Europe/Volgograd', 'Europe/Warsaw', 'Europe/Zagreb', 'Europe/Zaporozhye', 'Europe/Zurich', 'GB', 'GB-Eire', 'GMT', 'GMT+0', 'GMT-0', 'GMT0', 'Greenwich', 'HST', 'Hongkong', 'Iceland', 'Indian/Antananarivo', 'Indian/Chagos', 'Indian/Christmas', 'Indian/Cocos', 'Indian/Comoro', 'Indian/Kerguelen', 'Indian/Mahe', 'Indian/Maldives', 'Indian/Mauritius', 'Indian/Mayotte', 'Indian/Reunion', 'Iran', 'Israel', 'Jamaica', 'Japan', 'Kwajalein', 'Libya', 'MET', 'MST', 'MST7MDT', 'Mexico/BajaNorte', 'Mexico/BajaSur', 'Mexico/General', 'NZ', 'NZ-CHAT', 'Navajo', 'PRC', 'PST8PDT', 'Pacific/Apia', 'Pacific/Auckland', 'Pacific/Bougainville', 'Pacific/Chatham', 'Pacific/Chuuk', 'Pacific/Easter', 'Pacific/Efate', 'Pacific/Enderbury', 'Pacific/Fakaofo', 'Pacific/Fiji', 'Pacific/Funafuti', 'Pacific/Galapagos', 'Pacific/Gambier', 'Pacific/Guadalcanal', 'Pacific/Guam', 'Pacific/Honolulu', 'Pacific/Johnston', 'Pacific/Kanton', 'Pacific/Kiritimati', 'Pacific/Kosrae', 'Pacific/Kwajalein', 'Pacific/Majuro', 'Pacific/Marquesas', 'Pacific/Midway', 'Pacific/Nauru', 'Pacific/Niue', 'Pacific/Norfolk', 'Pacific/Noumea', 'Pacific/Pago_Pago', 'Pacific/Palau', 'Pacific/Pitcairn', 'Pacific/Pohnpei', 'Pacific/Ponape', 'Pacific/Port_Moresby', 'Pacific/Rarotonga', 'Pacific/Saipan', 'Pacific/Samoa', 'Pacific/Tahiti', 'Pacific/Tarawa', 'Pacific/Tongatapu', 'Pacific/Truk', 'Pacific/Wake', 'Pacific/Wallis', 'Pacific/Yap', 'Poland', 'Portugal', 'ROC', 'ROK', 'Singapore', 'Turkey', 'UCT', 'US/Alaska', 'US/Aleutian', 'US/Arizona', 'US/Central', 'US/East-Indiana', 'US/Eastern', 'US/Hawaii', 'US/Indiana-Starke', 'US/Michigan', 'US/Mountain', 'US/Pacific', 'US/Samoa', 'UTC', 'Universal', 'W-SU', 'WET', 'Zulu']\n"
     ]
    }
   ],
   "source": [
    "print(pytz.all_timezones)"
   ]
  },
  {
   "cell_type": "code",
   "execution_count": 102,
   "id": "5037e970",
   "metadata": {},
   "outputs": [
    {
     "name": "stdout",
     "output_type": "stream",
     "text": [
      "['US/Alaska', 'US/Aleutian', 'US/Arizona', 'US/Central', 'US/East-Indiana', 'US/Eastern', 'US/Hawaii', 'US/Indiana-Starke', 'US/Michigan', 'US/Mountain', 'US/Pacific', 'US/Samoa']\n"
     ]
    }
   ],
   "source": [
    "import re\n",
    "\n",
    "regex = re.compile('^US')\n",
    "\n",
    "selected_files = filter(regex.search, pytz.all_timezones)\n",
    "\n",
    "print(list(selected_files))"
   ]
  },
  {
   "cell_type": "code",
   "execution_count": 103,
   "id": "667b9e70",
   "metadata": {},
   "outputs": [
    {
     "name": "stdout",
     "output_type": "stream",
     "text": [
      "2017-08-29 07:00:00-04:00\n"
     ]
    }
   ],
   "source": [
    "depart = pd.Timestamp('2017-08-29 07:00', tz='US/Eastern')\n",
    "\n",
    "print(depart)"
   ]
  },
  {
   "cell_type": "code",
   "execution_count": 104,
   "id": "cb708954",
   "metadata": {},
   "outputs": [
    {
     "name": "stdout",
     "output_type": "stream",
     "text": [
      "2017-08-29 09:57:00\n"
     ]
    }
   ],
   "source": [
    "arrive = pd.Timestamp('2017-08-29 09:57')\n",
    "\n",
    "print(arrive)"
   ]
  },
  {
   "cell_type": "code",
   "execution_count": 105,
   "id": "cc77a71c",
   "metadata": {},
   "outputs": [
    {
     "name": "stdout",
     "output_type": "stream",
     "text": [
      "2017-08-29 09:57:00-07:00\n"
     ]
    }
   ],
   "source": [
    "arrive = arrive.tz_localize('US/Pacific')\n",
    "\n",
    "print(arrive)"
   ]
  },
  {
   "cell_type": "code",
   "execution_count": 106,
   "id": "dc87a89f",
   "metadata": {},
   "outputs": [],
   "source": [
    "duration = arrive - depart"
   ]
  },
  {
   "cell_type": "code",
   "execution_count": 107,
   "id": "67a64e9c",
   "metadata": {},
   "outputs": [
    {
     "data": {
      "text/plain": [
       "Timedelta('0 days 05:57:00')"
      ]
     },
     "execution_count": 107,
     "metadata": {},
     "output_type": "execute_result"
    }
   ],
   "source": [
    "duration"
   ]
  },
  {
   "cell_type": "code",
   "execution_count": null,
   "id": "f222cc8d",
   "metadata": {},
   "outputs": [],
   "source": []
  }
 ],
 "metadata": {
  "kernelspec": {
   "display_name": "Python 3 (ipykernel)",
   "language": "python",
   "name": "python3"
  },
  "language_info": {
   "codemirror_mode": {
    "name": "ipython",
    "version": 3
   },
   "file_extension": ".py",
   "mimetype": "text/x-python",
   "name": "python",
   "nbconvert_exporter": "python",
   "pygments_lexer": "ipython3",
   "version": "3.9.12"
  }
 },
 "nbformat": 4,
 "nbformat_minor": 5
}
