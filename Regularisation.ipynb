{
 "cells": [
  {
   "cell_type": "code",
   "execution_count": 1,
   "id": "6b303287",
   "metadata": {
    "scrolled": false
   },
   "outputs": [
    {
     "name": "stdout",
     "output_type": "stream",
     "text": [
      "Index(['Acres', 'FamilyIncome', 'FamilyType', 'NumBedrooms', 'NumChildren',\n",
      "       'NumPeople', 'NumRooms', 'NumUnits', 'NumVehicles', 'NumWorkers',\n",
      "       'OwnRent', 'YearBuilt', 'HouseCosts', 'ElectricBill', 'FoodStamp',\n",
      "       'HeatingFuel', 'Insurance', 'Language'],\n",
      "      dtype='object')\n"
     ]
    }
   ],
   "source": [
    "import pandas as pd\n",
    "\n",
    "acs = pd.read_csv('data/acs_ny.csv')\n",
    "\n",
    "print(acs.columns)"
   ]
  },
  {
   "cell_type": "code",
   "execution_count": 2,
   "id": "c6d3371d",
   "metadata": {},
   "outputs": [],
   "source": [
    "from patsy import dmatrices"
   ]
  },
  {
   "cell_type": "code",
   "execution_count": 5,
   "id": "dac84741",
   "metadata": {},
   "outputs": [],
   "source": [
    "response, predictors = dmatrices(\n",
    "\n",
    "    'FamilyIncome ~ NumBedrooms + NumChildren + NumPeople + NumRooms + NumUnits + NumVehicles + NumWorkers + OwnRent + ' \n",
    "'YearBuilt + ElectricBill + FoodStamp + HeatingFuel + ' \n",
    "    'Insurance + Language',\n",
    "\n",
    "    data=acs\n",
    "\n",
    ")"
   ]
  },
  {
   "cell_type": "code",
   "execution_count": 8,
   "id": "d115fe4d",
   "metadata": {
    "scrolled": true
   },
   "outputs": [
    {
     "data": {
      "text/plain": [
       "DesignMatrix with shape (22745, 39)\n",
       "  Columns:\n",
       "    ['Intercept',\n",
       "     'NumUnits[T.Single attached]',\n",
       "     'NumUnits[T.Single detached]',\n",
       "     'OwnRent[T.Outright]',\n",
       "     'OwnRent[T.Rented]',\n",
       "     'YearBuilt[T.1940-1949]',\n",
       "     'YearBuilt[T.1950-1959]',\n",
       "     'YearBuilt[T.1960-1969]',\n",
       "     'YearBuilt[T.1970-1979]',\n",
       "     'YearBuilt[T.1980-1989]',\n",
       "     'YearBuilt[T.1990-1999]',\n",
       "     'YearBuilt[T.2000-2004]',\n",
       "     'YearBuilt[T.2005]',\n",
       "     'YearBuilt[T.2006]',\n",
       "     'YearBuilt[T.2007]',\n",
       "     'YearBuilt[T.2008]',\n",
       "     'YearBuilt[T.2009]',\n",
       "     'YearBuilt[T.2010]',\n",
       "     'YearBuilt[T.Before 1939]',\n",
       "     'FoodStamp[T.Yes]',\n",
       "     'HeatingFuel[T.Electricity]',\n",
       "     'HeatingFuel[T.Gas]',\n",
       "     'HeatingFuel[T.None]',\n",
       "     'HeatingFuel[T.Oil]',\n",
       "     'HeatingFuel[T.Other]',\n",
       "     'HeatingFuel[T.Solar]',\n",
       "     'HeatingFuel[T.Wood]',\n",
       "     'Language[T.English]',\n",
       "     'Language[T.Other]',\n",
       "     'Language[T.Other European]',\n",
       "     'Language[T.Spanish]',\n",
       "     'NumBedrooms',\n",
       "     'NumChildren',\n",
       "     'NumPeople',\n",
       "     'NumRooms',\n",
       "     'NumVehicles',\n",
       "     'NumWorkers',\n",
       "     'ElectricBill',\n",
       "     'Insurance']\n",
       "  Terms:\n",
       "    'Intercept' (column 0)\n",
       "    'NumUnits' (columns 1:3)\n",
       "    'OwnRent' (columns 3:5)\n",
       "    'YearBuilt' (columns 5:19)\n",
       "    'FoodStamp' (column 19)\n",
       "    'HeatingFuel' (columns 20:27)\n",
       "    'Language' (columns 27:31)\n",
       "    'NumBedrooms' (column 31)\n",
       "    'NumChildren' (column 32)\n",
       "    'NumPeople' (column 33)\n",
       "    'NumRooms' (column 34)\n",
       "    'NumVehicles' (column 35)\n",
       "    'NumWorkers' (column 36)\n",
       "    'ElectricBill' (column 37)\n",
       "    'Insurance' (column 38)\n",
       "  (to view full data, use np.asarray(this_obj))"
      ]
     },
     "execution_count": 8,
     "metadata": {},
     "output_type": "execute_result"
    }
   ],
   "source": [
    "predictors"
   ]
  },
  {
   "cell_type": "code",
   "execution_count": 6,
   "id": "e84b282a",
   "metadata": {},
   "outputs": [],
   "source": [
    "from sklearn.model_selection import train_test_split\n",
    "\n",
    "X_train, X_test, y_train, y_test = train_test_split(predictors, response,\n",
    "                                                    random_state=0)"
   ]
  },
  {
   "cell_type": "code",
   "execution_count": 9,
   "id": "0be57295",
   "metadata": {},
   "outputs": [
    {
     "name": "stdout",
     "output_type": "stream",
     "text": [
      "                       variable       coef_lr\n",
      "0                     Intercept  3.522660e-11\n",
      "1   NumUnits[T.Single attached]  3.135646e+04\n",
      "2   NumUnits[T.Single detached]  2.418368e+04\n",
      "3           OwnRent[T.Outright]  2.839186e+04\n",
      "4             OwnRent[T.Rented]  7.229586e+03\n",
      "5        YearBuilt[T.1940-1949]  1.292169e+04\n",
      "6        YearBuilt[T.1950-1959]  2.057793e+04\n",
      "7        YearBuilt[T.1960-1969]  1.764835e+04\n",
      "8        YearBuilt[T.1970-1979]  1.756881e+04\n",
      "9        YearBuilt[T.1980-1989]  2.552566e+04\n",
      "10       YearBuilt[T.1990-1999]  2.983944e+04\n",
      "11       YearBuilt[T.2000-2004]  3.012502e+04\n",
      "12            YearBuilt[T.2005]  4.318648e+04\n",
      "13            YearBuilt[T.2006]  3.242038e+04\n",
      "14            YearBuilt[T.2007]  3.562061e+04\n",
      "15            YearBuilt[T.2008]  3.712470e+04\n",
      "16            YearBuilt[T.2009]  3.035133e+04\n",
      "17            YearBuilt[T.2010]  7.364529e+04\n",
      "18     YearBuilt[T.Before 1939]  1.218711e+04\n",
      "19             FoodStamp[T.Yes] -2.745712e+04\n",
      "20   HeatingFuel[T.Electricity]  1.946552e+04\n",
      "21           HeatingFuel[T.Gas]  2.588482e+04\n",
      "22          HeatingFuel[T.None]  2.532452e+04\n",
      "23           HeatingFuel[T.Oil]  2.535803e+04\n",
      "24         HeatingFuel[T.Other]  1.734533e+04\n",
      "25         HeatingFuel[T.Solar]  8.424991e+03\n",
      "26          HeatingFuel[T.Wood]  8.898002e+02\n",
      "27          Language[T.English] -1.873624e+04\n",
      "28            Language[T.Other] -4.463333e+03\n",
      "29   Language[T.Other European] -1.409466e+04\n",
      "30          Language[T.Spanish] -2.603347e+04\n",
      "31                  NumBedrooms  3.443931e+03\n",
      "32                  NumChildren  8.215723e+03\n",
      "33                    NumPeople -8.203826e+03\n",
      "34                     NumRooms  5.735494e+03\n",
      "35                  NumVehicles  7.484535e+03\n",
      "36                   NumWorkers  2.283630e+04\n",
      "37                 ElectricBill  9.332524e+01\n",
      "38                    Insurance  3.099441e+01\n"
     ]
    },
    {
     "name": "stderr",
     "output_type": "stream",
     "text": [
      "/opt/anaconda3/envs/pfe/lib/python3.9/site-packages/sklearn/linear_model/_base.py:141: FutureWarning: 'normalize' was deprecated in version 1.0 and will be removed in 1.2.\n",
      "If you wish to scale the data, use Pipeline with a StandardScaler in a preprocessing stage. To reproduce the previous behavior:\n",
      "\n",
      "from sklearn.pipeline import make_pipeline\n",
      "\n",
      "model = make_pipeline(StandardScaler(with_mean=False), LinearRegression())\n",
      "\n",
      "If you wish to pass a sample_weight parameter, you need to pass it as a fit parameter to each step of the pipeline as follows:\n",
      "\n",
      "kwargs = {s[0] + '__sample_weight': sample_weight for s in model.steps}\n",
      "model.fit(X, y, **kwargs)\n",
      "\n",
      "\n",
      "  warnings.warn(\n"
     ]
    }
   ],
   "source": [
    "from sklearn.linear_model import LinearRegression\n",
    "\n",
    "lr = LinearRegression(normalize=True).fit(X_train, y_train)\n",
    "\n",
    "\n",
    "\n",
    "model_coefs = pd.DataFrame(list(zip(predictors.design_info.column_names,\n",
    "\n",
    "                                    lr.coef_[0])),\n",
    "\n",
    "                          columns=['variable', 'coef_lr'])\n",
    "\n",
    "print(model_coefs)"
   ]
  },
  {
   "cell_type": "code",
   "execution_count": 10,
   "id": "e42767b2",
   "metadata": {},
   "outputs": [
    {
     "name": "stdout",
     "output_type": "stream",
     "text": [
      "0.2726140465638568\n"
     ]
    }
   ],
   "source": [
    "print(lr.score(X_train, y_train))"
   ]
  },
  {
   "cell_type": "code",
   "execution_count": 11,
   "id": "c1e652c0",
   "metadata": {},
   "outputs": [
    {
     "name": "stdout",
     "output_type": "stream",
     "text": [
      "0.26976979568488124\n"
     ]
    }
   ],
   "source": [
    "print(lr.score(X_test, y_test))"
   ]
  },
  {
   "cell_type": "code",
   "execution_count": 14,
   "id": "23eddd0a",
   "metadata": {},
   "outputs": [
    {
     "name": "stderr",
     "output_type": "stream",
     "text": [
      "/opt/anaconda3/envs/pfe/lib/python3.9/site-packages/sklearn/linear_model/_base.py:141: FutureWarning: 'normalize' was deprecated in version 1.0 and will be removed in 1.2.\n",
      "If you wish to scale the data, use Pipeline with a StandardScaler in a preprocessing stage. To reproduce the previous behavior:\n",
      "\n",
      "from sklearn.pipeline import make_pipeline\n",
      "\n",
      "model = make_pipeline(StandardScaler(with_mean=False), Lasso())\n",
      "\n",
      "If you wish to pass a sample_weight parameter, you need to pass it as a fit parameter to each step of the pipeline as follows:\n",
      "\n",
      "kwargs = {s[0] + '__sample_weight': sample_weight for s in model.steps}\n",
      "model.fit(X, y, **kwargs)\n",
      "\n",
      "Set parameter alpha to: original_alpha * np.sqrt(n_samples). \n",
      "  warnings.warn(\n"
     ]
    }
   ],
   "source": [
    "from sklearn.linear_model import Lasso\n",
    "\n",
    "lasso = Lasso(normalize=True, random_state=0).fit(X_test, y_test)"
   ]
  },
  {
   "cell_type": "code",
   "execution_count": 15,
   "id": "2c08a570",
   "metadata": {},
   "outputs": [],
   "source": [
    "coefs_lasso = pd.DataFrame(\n",
    "\n",
    "  list(zip(predictors.design_info.column_names, lasso.coef_)),\n",
    "\n",
    "  columns=['variable', 'coef_lasso'])"
   ]
  },
  {
   "cell_type": "code",
   "execution_count": 16,
   "id": "2faffb98",
   "metadata": {
    "scrolled": true
   },
   "outputs": [
    {
     "name": "stdout",
     "output_type": "stream",
     "text": [
      "                       variable       coef_lr    coef_lasso\n",
      "0                     Intercept  3.522660e-11      0.000000\n",
      "1   NumUnits[T.Single attached]  3.135646e+04  23847.097905\n",
      "2   NumUnits[T.Single detached]  2.418368e+04  20278.620009\n",
      "3           OwnRent[T.Outright]  2.839186e+04  30153.611697\n",
      "4             OwnRent[T.Rented]  7.229586e+03   1440.140884\n",
      "5        YearBuilt[T.1940-1949]  1.292169e+04  -6382.312453\n",
      "6        YearBuilt[T.1950-1959]  2.057793e+04   -905.142030\n",
      "7        YearBuilt[T.1960-1969]  1.764835e+04     -0.000000\n",
      "8        YearBuilt[T.1970-1979]  1.756881e+04  -1579.827129\n",
      "9        YearBuilt[T.1980-1989]  2.552566e+04   7854.066748\n",
      "10       YearBuilt[T.1990-1999]  2.983944e+04   1355.026160\n",
      "11       YearBuilt[T.2000-2004]  3.012502e+04  11212.207583\n",
      "12            YearBuilt[T.2005]  4.318648e+04   8770.315635\n",
      "13            YearBuilt[T.2006]  3.242038e+04  34814.310436\n",
      "14            YearBuilt[T.2007]  3.562061e+04  27415.800873\n",
      "15            YearBuilt[T.2008]  3.712470e+04  10866.123988\n",
      "16            YearBuilt[T.2009]  3.035133e+04    312.110532\n",
      "17            YearBuilt[T.2010]  7.364529e+04  10093.244533\n",
      "18     YearBuilt[T.Before 1939]  1.218711e+04  -4903.325664\n",
      "19             FoodStamp[T.Yes] -2.745712e+04 -23717.406880\n",
      "20   HeatingFuel[T.Electricity]  1.946552e+04   1775.625749\n",
      "21           HeatingFuel[T.Gas]  2.588482e+04  12410.061671\n",
      "22          HeatingFuel[T.None]  2.532452e+04  -4153.735420\n",
      "23           HeatingFuel[T.Oil]  2.535803e+04  10009.595676\n",
      "24         HeatingFuel[T.Other]  1.734533e+04  -6803.711978\n",
      "25         HeatingFuel[T.Solar]  8.424991e+03      0.000000\n",
      "26          HeatingFuel[T.Wood]  8.898002e+02  -9398.444417\n",
      "27          Language[T.English] -1.873624e+04  -8076.201004\n",
      "28            Language[T.Other] -4.463333e+03 -21403.661071\n",
      "29   Language[T.Other European] -1.409466e+04  -9113.511553\n",
      "30          Language[T.Spanish] -2.603347e+04 -14321.350716\n",
      "31                  NumBedrooms  3.443931e+03   3976.075383\n",
      "32                  NumChildren  8.215723e+03   5652.313652\n",
      "33                    NumPeople -8.203826e+03  -5903.547002\n",
      "34                     NumRooms  5.735494e+03   4612.117329\n",
      "35                  NumVehicles  7.484535e+03   7736.529456\n",
      "36                   NumWorkers  2.283630e+04  20346.201513\n",
      "37                 ElectricBill  9.332524e+01     89.504660\n",
      "38                    Insurance  3.099441e+01     31.954902\n"
     ]
    }
   ],
   "source": [
    "model_coefs = pd.merge(model_coefs, coefs_lasso, on='variable')\n",
    "\n",
    "print(model_coefs)"
   ]
  },
  {
   "cell_type": "code",
   "execution_count": 17,
   "id": "81870941",
   "metadata": {},
   "outputs": [
    {
     "name": "stdout",
     "output_type": "stream",
     "text": [
      "0.26670104659430227\n"
     ]
    }
   ],
   "source": [
    "print(lasso.score(X_train, y_train))"
   ]
  },
  {
   "cell_type": "code",
   "execution_count": 18,
   "id": "8786ae22",
   "metadata": {},
   "outputs": [
    {
     "name": "stdout",
     "output_type": "stream",
     "text": [
      "0.27506204638605314\n"
     ]
    }
   ],
   "source": [
    "print(lasso.score(X_test, y_test))"
   ]
  },
  {
   "cell_type": "code",
   "execution_count": 21,
   "id": "0f309153",
   "metadata": {},
   "outputs": [
    {
     "name": "stdout",
     "output_type": "stream",
     "text": [
      "                       variable       coef_lr    coef_lasso    coef_ridge\n",
      "0                     Intercept  3.522660e-11      0.000000      0.000000\n",
      "1   NumUnits[T.Single attached]  3.135646e+04  23847.097905   4571.129321\n",
      "2   NumUnits[T.Single detached]  2.418368e+04  20278.620009   4514.956813\n",
      "3           OwnRent[T.Outright]  2.839186e+04  30153.611697  10674.890982\n",
      "4             OwnRent[T.Rented]  7.229586e+03   1440.140884 -10180.631863\n",
      "5        YearBuilt[T.1940-1949]  1.292169e+04  -6382.312453  -3672.096659\n",
      "6        YearBuilt[T.1950-1959]  2.057793e+04   -905.142030   1221.616020\n",
      "7        YearBuilt[T.1960-1969]  1.764835e+04     -0.000000    -15.801437\n",
      "8        YearBuilt[T.1970-1979]  1.756881e+04  -1579.827129  -1868.746915\n",
      "9        YearBuilt[T.1980-1989]  2.552566e+04   7854.066748   2664.343363\n",
      "10       YearBuilt[T.1990-1999]  2.983944e+04   1355.026160   4079.639281\n",
      "11       YearBuilt[T.2000-2004]  3.012502e+04  11212.207583   5615.285677\n",
      "12            YearBuilt[T.2005]  4.318648e+04   8770.315635  12607.557029\n",
      "13            YearBuilt[T.2006]  3.242038e+04  34814.310436   5783.401233\n",
      "14            YearBuilt[T.2007]  3.562061e+04  27415.800873   8019.076178\n",
      "15            YearBuilt[T.2008]  3.712470e+04  10866.123988   7964.342869\n",
      "16            YearBuilt[T.2009]  3.035133e+04    312.110532   3892.605415\n",
      "17            YearBuilt[T.2010]  7.364529e+04  10093.244533  28469.966885\n",
      "18     YearBuilt[T.Before 1939]  1.218711e+04  -4903.325664  -4271.925584\n",
      "19             FoodStamp[T.Yes] -2.745712e+04 -23717.406880 -21854.708263\n",
      "20   HeatingFuel[T.Electricity]  1.946552e+04   1775.625749  -2043.214963\n",
      "21           HeatingFuel[T.Gas]  2.588482e+04  12410.061671   2043.550077\n",
      "22          HeatingFuel[T.None]  2.532452e+04  -4153.735420   1376.185561\n",
      "23           HeatingFuel[T.Oil]  2.535803e+04  10009.595676   2377.402169\n",
      "24         HeatingFuel[T.Other]  1.734533e+04  -6803.711978  -5135.068670\n",
      "25         HeatingFuel[T.Solar]  8.424991e+03      0.000000    589.799008\n",
      "26          HeatingFuel[T.Wood]  8.898002e+02  -9398.444417 -13652.201413\n",
      "27          Language[T.English] -1.873624e+04  -8076.201004  -3003.249668\n",
      "28            Language[T.Other] -4.463333e+03 -21403.661071   9067.969977\n",
      "29   Language[T.Other European] -1.409466e+04  -9113.511553   3059.003880\n",
      "30          Language[T.Spanish] -2.603347e+04 -14321.350716  -6155.075714\n",
      "31                  NumBedrooms  3.443931e+03   3976.075383   4690.469564\n",
      "32                  NumChildren  8.215723e+03   5652.313652   1102.877585\n",
      "33                    NumPeople -8.203826e+03  -5903.547002   -203.132130\n",
      "34                     NumRooms  5.735494e+03   4612.117329   3489.196546\n",
      "35                  NumVehicles  7.484535e+03   7736.529456   5245.929228\n",
      "36                   NumWorkers  2.283630e+04  20346.201513  10344.202715\n",
      "37                 ElectricBill  9.332524e+01     89.504660     68.784409\n",
      "38                    Insurance  3.099441e+01     31.954902     15.914804\n"
     ]
    },
    {
     "name": "stderr",
     "output_type": "stream",
     "text": [
      "/opt/anaconda3/envs/pfe/lib/python3.9/site-packages/sklearn/linear_model/_base.py:141: FutureWarning: 'normalize' was deprecated in version 1.0 and will be removed in 1.2.\n",
      "If you wish to scale the data, use Pipeline with a StandardScaler in a preprocessing stage. To reproduce the previous behavior:\n",
      "\n",
      "from sklearn.pipeline import make_pipeline\n",
      "\n",
      "model = make_pipeline(StandardScaler(with_mean=False), Ridge())\n",
      "\n",
      "If you wish to pass a sample_weight parameter, you need to pass it as a fit parameter to each step of the pipeline as follows:\n",
      "\n",
      "kwargs = {s[0] + '__sample_weight': sample_weight for s in model.steps}\n",
      "model.fit(X, y, **kwargs)\n",
      "\n",
      "Set parameter alpha to: original_alpha * n_samples. \n",
      "  warnings.warn(\n"
     ]
    }
   ],
   "source": [
    "from sklearn.linear_model import Ridge\n",
    "\n",
    "ridge = Ridge(normalize=True, random_state=0).fit(X_train, y_train)\n",
    "\n",
    "\n",
    "\n",
    "coefs_ridge = pd.DataFrame(\n",
    "\n",
    "  list(zip(predictors.design_info.column_names, ridge.coef_[0])),\n",
    "\n",
    "  columns=['variable', 'coef_ridge'])\n",
    "\n",
    "\n",
    "\n",
    "model_coefs = pd.merge(model_coefs, coefs_ridge, on='variable')\n",
    "\n",
    "print(model_coefs)"
   ]
  },
  {
   "cell_type": "code",
   "execution_count": 22,
   "id": "3b51a941",
   "metadata": {},
   "outputs": [],
   "source": [
    "from sklearn.linear_model import ElasticNet\n",
    "\n",
    "\n",
    "\n",
    "en = ElasticNet(random_state=42).fit(X_train, y_train)"
   ]
  },
  {
   "cell_type": "code",
   "execution_count": 23,
   "id": "30201933",
   "metadata": {
    "scrolled": true
   },
   "outputs": [
    {
     "name": "stdout",
     "output_type": "stream",
     "text": [
      "                       variable       coef_lr    coef_lasso    coef_ridge  \\\n",
      "0                     Intercept  3.522660e-11      0.000000      0.000000   \n",
      "1   NumUnits[T.Single attached]  3.135646e+04  23847.097905   4571.129321   \n",
      "2   NumUnits[T.Single detached]  2.418368e+04  20278.620009   4514.956813   \n",
      "3           OwnRent[T.Outright]  2.839186e+04  30153.611697  10674.890982   \n",
      "4             OwnRent[T.Rented]  7.229586e+03   1440.140884 -10180.631863   \n",
      "5        YearBuilt[T.1940-1949]  1.292169e+04  -6382.312453  -3672.096659   \n",
      "6        YearBuilt[T.1950-1959]  2.057793e+04   -905.142030   1221.616020   \n",
      "7        YearBuilt[T.1960-1969]  1.764835e+04     -0.000000    -15.801437   \n",
      "8        YearBuilt[T.1970-1979]  1.756881e+04  -1579.827129  -1868.746915   \n",
      "9        YearBuilt[T.1980-1989]  2.552566e+04   7854.066748   2664.343363   \n",
      "10       YearBuilt[T.1990-1999]  2.983944e+04   1355.026160   4079.639281   \n",
      "11       YearBuilt[T.2000-2004]  3.012502e+04  11212.207583   5615.285677   \n",
      "12            YearBuilt[T.2005]  4.318648e+04   8770.315635  12607.557029   \n",
      "13            YearBuilt[T.2006]  3.242038e+04  34814.310436   5783.401233   \n",
      "14            YearBuilt[T.2007]  3.562061e+04  27415.800873   8019.076178   \n",
      "15            YearBuilt[T.2008]  3.712470e+04  10866.123988   7964.342869   \n",
      "16            YearBuilt[T.2009]  3.035133e+04    312.110532   3892.605415   \n",
      "17            YearBuilt[T.2010]  7.364529e+04  10093.244533  28469.966885   \n",
      "18     YearBuilt[T.Before 1939]  1.218711e+04  -4903.325664  -4271.925584   \n",
      "19             FoodStamp[T.Yes] -2.745712e+04 -23717.406880 -21854.708263   \n",
      "20   HeatingFuel[T.Electricity]  1.946552e+04   1775.625749  -2043.214963   \n",
      "21           HeatingFuel[T.Gas]  2.588482e+04  12410.061671   2043.550077   \n",
      "22          HeatingFuel[T.None]  2.532452e+04  -4153.735420   1376.185561   \n",
      "23           HeatingFuel[T.Oil]  2.535803e+04  10009.595676   2377.402169   \n",
      "24         HeatingFuel[T.Other]  1.734533e+04  -6803.711978  -5135.068670   \n",
      "25         HeatingFuel[T.Solar]  8.424991e+03      0.000000    589.799008   \n",
      "26          HeatingFuel[T.Wood]  8.898002e+02  -9398.444417 -13652.201413   \n",
      "27          Language[T.English] -1.873624e+04  -8076.201004  -3003.249668   \n",
      "28            Language[T.Other] -4.463333e+03 -21403.661071   9067.969977   \n",
      "29   Language[T.Other European] -1.409466e+04  -9113.511553   3059.003880   \n",
      "30          Language[T.Spanish] -2.603347e+04 -14321.350716  -6155.075714   \n",
      "31                  NumBedrooms  3.443931e+03   3976.075383   4690.469564   \n",
      "32                  NumChildren  8.215723e+03   5652.313652   1102.877585   \n",
      "33                    NumPeople -8.203826e+03  -5903.547002   -203.132130   \n",
      "34                     NumRooms  5.735494e+03   4612.117329   3489.196546   \n",
      "35                  NumVehicles  7.484535e+03   7736.529456   5245.929228   \n",
      "36                   NumWorkers  2.283630e+04  20346.201513  10344.202715   \n",
      "37                 ElectricBill  9.332524e+01     89.504660     68.784409   \n",
      "38                    Insurance  3.099441e+01     31.954902     15.914804   \n",
      "\n",
      "         coef_en  \n",
      "0       0.000000  \n",
      "1    1342.291706  \n",
      "2     168.728479  \n",
      "3     445.533238  \n",
      "4    -600.673747  \n",
      "5    -794.239494  \n",
      "6     513.289101  \n",
      "7    -275.576200  \n",
      "8    -574.365605  \n",
      "9     708.813588  \n",
      "10   1357.944466  \n",
      "11    798.576141  \n",
      "12    445.271666  \n",
      "13    202.040682  \n",
      "14    222.170314  \n",
      "15    153.161478  \n",
      "16     88.228204  \n",
      "17    233.189152  \n",
      "18  -3053.705550  \n",
      "19  -4394.455708  \n",
      "20   -129.968032  \n",
      "21   1924.299033  \n",
      "22      0.000000  \n",
      "23    453.942244  \n",
      "24    -67.445065  \n",
      "25      0.994142  \n",
      "26  -1894.123724  \n",
      "27   -955.455328  \n",
      "28    374.835549  \n",
      "29    626.547311  \n",
      "30  -1367.763935  \n",
      "31   2073.910045  \n",
      "32   2498.719581  \n",
      "33  -2562.412933  \n",
      "34   5685.101939  \n",
      "35   6059.776166  \n",
      "36  12247.547800  \n",
      "37     97.566664  \n",
      "38     32.484207  \n"
     ]
    }
   ],
   "source": [
    "coefs_en = pd.DataFrame(\n",
    "\n",
    "  list(zip(predictors.design_info.\n",
    "\n",
    "  column_names, en.coef_)), columns=['variable', 'coef_en'])\n",
    "\n",
    "\n",
    "\n",
    "model_coefs = pd.merge(model_coefs, coefs_en, on='variable')\n",
    "\n",
    "print(model_coefs)"
   ]
  },
  {
   "cell_type": "code",
   "execution_count": 25,
   "id": "8ab1ebca",
   "metadata": {
    "scrolled": true
   },
   "outputs": [
    {
     "name": "stdout",
     "output_type": "stream",
     "text": [
      "                       variable       coef_lr    coef_lasso    coef_ridge  \\\n",
      "0                     Intercept  3.522660e-11      0.000000      0.000000   \n",
      "1   NumUnits[T.Single attached]  3.135646e+04  23847.097905   4571.129321   \n",
      "2   NumUnits[T.Single detached]  2.418368e+04  20278.620009   4514.956813   \n",
      "3           OwnRent[T.Outright]  2.839186e+04  30153.611697  10674.890982   \n",
      "4             OwnRent[T.Rented]  7.229586e+03   1440.140884 -10180.631863   \n",
      "5        YearBuilt[T.1940-1949]  1.292169e+04  -6382.312453  -3672.096659   \n",
      "6        YearBuilt[T.1950-1959]  2.057793e+04   -905.142030   1221.616020   \n",
      "7        YearBuilt[T.1960-1969]  1.764835e+04     -0.000000    -15.801437   \n",
      "8        YearBuilt[T.1970-1979]  1.756881e+04  -1579.827129  -1868.746915   \n",
      "9        YearBuilt[T.1980-1989]  2.552566e+04   7854.066748   2664.343363   \n",
      "10       YearBuilt[T.1990-1999]  2.983944e+04   1355.026160   4079.639281   \n",
      "11       YearBuilt[T.2000-2004]  3.012502e+04  11212.207583   5615.285677   \n",
      "12            YearBuilt[T.2005]  4.318648e+04   8770.315635  12607.557029   \n",
      "13            YearBuilt[T.2006]  3.242038e+04  34814.310436   5783.401233   \n",
      "14            YearBuilt[T.2007]  3.562061e+04  27415.800873   8019.076178   \n",
      "15            YearBuilt[T.2008]  3.712470e+04  10866.123988   7964.342869   \n",
      "16            YearBuilt[T.2009]  3.035133e+04    312.110532   3892.605415   \n",
      "17            YearBuilt[T.2010]  7.364529e+04  10093.244533  28469.966885   \n",
      "18     YearBuilt[T.Before 1939]  1.218711e+04  -4903.325664  -4271.925584   \n",
      "19             FoodStamp[T.Yes] -2.745712e+04 -23717.406880 -21854.708263   \n",
      "20   HeatingFuel[T.Electricity]  1.946552e+04   1775.625749  -2043.214963   \n",
      "21           HeatingFuel[T.Gas]  2.588482e+04  12410.061671   2043.550077   \n",
      "22          HeatingFuel[T.None]  2.532452e+04  -4153.735420   1376.185561   \n",
      "23           HeatingFuel[T.Oil]  2.535803e+04  10009.595676   2377.402169   \n",
      "24         HeatingFuel[T.Other]  1.734533e+04  -6803.711978  -5135.068670   \n",
      "25         HeatingFuel[T.Solar]  8.424991e+03      0.000000    589.799008   \n",
      "26          HeatingFuel[T.Wood]  8.898002e+02  -9398.444417 -13652.201413   \n",
      "27          Language[T.English] -1.873624e+04  -8076.201004  -3003.249668   \n",
      "28            Language[T.Other] -4.463333e+03 -21403.661071   9067.969977   \n",
      "29   Language[T.Other European] -1.409466e+04  -9113.511553   3059.003880   \n",
      "30          Language[T.Spanish] -2.603347e+04 -14321.350716  -6155.075714   \n",
      "31                  NumBedrooms  3.443931e+03   3976.075383   4690.469564   \n",
      "32                  NumChildren  8.215723e+03   5652.313652   1102.877585   \n",
      "33                    NumPeople -8.203826e+03  -5903.547002   -203.132130   \n",
      "34                     NumRooms  5.735494e+03   4612.117329   3489.196546   \n",
      "35                  NumVehicles  7.484535e+03   7736.529456   5245.929228   \n",
      "36                   NumWorkers  2.283630e+04  20346.201513  10344.202715   \n",
      "37                 ElectricBill  9.332524e+01     89.504660     68.784409   \n",
      "38                    Insurance  3.099441e+01     31.954902     15.914804   \n",
      "\n",
      "         coef_en  coef_en_cv  \n",
      "0       0.000000    0.000000  \n",
      "1    1342.291706   -0.000000  \n",
      "2     168.728479    0.000000  \n",
      "3     445.533238    0.000000  \n",
      "4    -600.673747   -0.000000  \n",
      "5    -794.239494   -0.000000  \n",
      "6     513.289101    0.000000  \n",
      "7    -275.576200    0.000000  \n",
      "8    -574.365605   -0.000000  \n",
      "9     708.813588    0.000000  \n",
      "10   1357.944466    0.000000  \n",
      "11    798.576141    0.000000  \n",
      "12    445.271666    0.000000  \n",
      "13    202.040682    0.000000  \n",
      "14    222.170314    0.000000  \n",
      "15    153.161478    0.000000  \n",
      "16     88.228204    0.000000  \n",
      "17    233.189152    0.000000  \n",
      "18  -3053.705550   -0.000000  \n",
      "19  -4394.455708   -0.000000  \n",
      "20   -129.968032   -0.000000  \n",
      "21   1924.299033    0.000000  \n",
      "22      0.000000   -0.000000  \n",
      "23    453.942244    0.000000  \n",
      "24    -67.445065   -0.000000  \n",
      "25      0.994142   -0.000000  \n",
      "26  -1894.123724   -0.000000  \n",
      "27   -955.455328   -0.000000  \n",
      "28    374.835549    0.000000  \n",
      "29    626.547311    0.000000  \n",
      "30  -1367.763935   -0.000000  \n",
      "31   2073.910045    0.000000  \n",
      "32   2498.719581    0.000000  \n",
      "33  -2562.412933    0.000000  \n",
      "34   5685.101939    0.028443  \n",
      "35   6059.776166    0.000000  \n",
      "36  12247.547800    0.000000  \n",
      "37     97.566664   26.166320  \n",
      "38     32.484207   38.561748  \n"
     ]
    },
    {
     "name": "stderr",
     "output_type": "stream",
     "text": [
      "/opt/anaconda3/envs/pfe/lib/python3.9/site-packages/sklearn/linear_model/_coordinate_descent.py:1571: DataConversionWarning: A column-vector y was passed when a 1d array was expected. Please change the shape of y to (n_samples, ), for example using ravel().\n",
      "  y = column_or_1d(y, warn=True)\n"
     ]
    }
   ],
   "source": [
    "from sklearn.linear_model import ElasticNetCV\n",
    "\n",
    "\n",
    "\n",
    "en_cv = ElasticNetCV(cv=5, random_state=42).fit(X_train, y_train)\n",
    "\n",
    "coefs_en_cv = pd.DataFrame(\n",
    "\n",
    "  list(zip(predictors.design_info.\n",
    "\n",
    "  column_names, en_cv.coef_)), columns=['variable', 'coef_en_cv'])\n",
    "\n",
    "\n",
    "\n",
    "model_coefs = pd.merge(model_coefs, coefs_en_cv, on='variable')\n",
    "\n",
    "print(model_coefs)"
   ]
  },
  {
   "cell_type": "code",
   "execution_count": null,
   "id": "4557de18",
   "metadata": {},
   "outputs": [],
   "source": []
  }
 ],
 "metadata": {
  "kernelspec": {
   "display_name": "Python 3 (ipykernel)",
   "language": "python",
   "name": "python3"
  },
  "language_info": {
   "codemirror_mode": {
    "name": "ipython",
    "version": 3
   },
   "file_extension": ".py",
   "mimetype": "text/x-python",
   "name": "python",
   "nbconvert_exporter": "python",
   "pygments_lexer": "ipython3",
   "version": "3.9.12"
  }
 },
 "nbformat": 4,
 "nbformat_minor": 5
}
